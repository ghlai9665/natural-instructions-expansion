{
 "cells": [
  {
   "cell_type": "code",
   "execution_count": 1,
   "metadata": {},
   "outputs": [],
   "source": [
    "%load_ext autoreload  \n",
    "%autoreload 2 \n",
    "%matplotlib inline"
   ]
  },
  {
   "cell_type": "code",
   "execution_count": 2,
   "metadata": {},
   "outputs": [],
   "source": [
    "import torch \n",
    "from tqdm import tqdm\n",
    "import json\n",
    "from datasets import load_dataset\n",
    "from sentence_transformers import CrossEncoder"
   ]
  },
  {
   "cell_type": "code",
   "execution_count": 3,
   "metadata": {},
   "outputs": [
    {
     "name": "stderr",
     "output_type": "stream",
     "text": [
      "Using custom data configuration default\n",
      "Reusing dataset e2e_nlg (/Users/garylai/.cache/huggingface/datasets/e2e_nlg/default/0.0.0/bfeceb720929c2705bd227d1cfe5eaaab102a0bdac10dad618dac1e00c737430)\n",
      "100%|██████████| 3/3 [00:00<00:00, 172.53it/s]\n"
     ]
    }
   ],
   "source": [
    "# get instances\n",
    "dataset = load_dataset('e2e_nlg')\n"
   ]
  },
  {
   "cell_type": "code",
   "execution_count": 4,
   "metadata": {},
   "outputs": [
    {
     "data": {
      "text/plain": [
       "42061"
      ]
     },
     "execution_count": 4,
     "metadata": {},
     "output_type": "execute_result"
    }
   ],
   "source": [
    "dataset = dataset['train']; len(dataset)"
   ]
  },
  {
   "cell_type": "code",
   "execution_count": 5,
   "metadata": {},
   "outputs": [],
   "source": [
    "import random\n",
    "\n",
    "# Write to JSON\n",
    "unique_sentences = set()\n",
    "\n",
    "Instances = []\n",
    "for i in range(3000):\n",
    "    # prevent duplicates\n",
    "    if dataset[i]['human_reference'] in unique_sentences or dataset[i]['meaning_representation'] in unique_sentences:\n",
    "        continue\n",
    "    \n",
    "    unique_sentences.add(dataset[i]['human_reference'])\n",
    "    unique_sentences.add(dataset[i]['meaning_representation'])\n",
    "    \n",
    "    Instances.append({\n",
    "        # \"input\": dataset[i]['meaning_representation'],\n",
    "        # \"output\": [dataset[i]['human_reference']]\n",
    "        \"input\": dataset[i]['human_reference'],\n",
    "        \"output\": [dataset[i]['meaning_representation']]\n",
    "    })"
   ]
  },
  {
   "cell_type": "code",
   "execution_count": 9,
   "metadata": {},
   "outputs": [
    {
     "data": {
      "text/plain": [
       "2162"
      ]
     },
     "execution_count": 9,
     "metadata": {},
     "output_type": "execute_result"
    }
   ],
   "source": [
    "len(Instances)"
   ]
  },
  {
   "cell_type": "code",
   "execution_count": 11,
   "metadata": {},
   "outputs": [
    {
     "name": "stdout",
     "output_type": "stream",
     "text": [
      "first instance:  {'input': 'name[The Mill], eatType[restaurant], area[riverside], near[The Rice Boat]', 'output': ['A restaurant called The Mill, can be found near the riverside next to The Rice Boat.']}\n"
     ]
    }
   ],
   "source": [
    "random.shuffle(Instances)"
   ]
  },
  {
   "cell_type": "code",
   "execution_count": 13,
   "metadata": {},
   "outputs": [
    {
     "name": "stdout",
     "output_type": "stream",
     "text": [
      "{'input': 'name[The Mill], eatType[restaurant], area[riverside], near[The Rice Boat]', 'output': ['A restaurant called The Mill, can be found near the riverside next to The Rice Boat.']}\n",
      "{'input': 'name[Midsummer House], food[Indian], customer rating[low], near[Café Rouge]', 'output': ['Located near Café Rouge Midsummer House is an Indian restaurant with a poor customer rating.']}\n",
      "{'input': 'name[Taste of Cambridge], eatType[restaurant], priceRange[cheap], customer rating[average]', 'output': ['Taste of Cambridge is an average rated and cheap restaurant option.']}\n",
      "{'input': 'name[The Eagle], eatType[coffee shop], food[Indian], priceRange[more than £30], customer rating[high], area[city centre], familyFriendly[no], near[Burger King]', 'output': ['In the city centre, near Burger King, you will find The Eagle. It is a non children-friendly coffee shop that serves Indian food. While its price range is quite high, more than £30, it has a high customer ratings.']}\n",
      "{'input': 'name[Browns Cambridge], priceRange[£20-25], customer rating[high]', 'output': ['Browns Cambridge has a high customer rating with a high price range.']}\n",
      "{'input': 'name[Alimentum], food[Fast food], priceRange[£20-25], customer rating[high], area[city centre], near[Yippee Noodle Bar]', 'output': ['Yippee Noodle Bar, near the Alimentum city centre is a fast food place with high customer rating, and has a price range of 20-25 euros']}\n",
      "{'input': 'name[The Golden Curry], food[English], priceRange[high], familyFriendly[no], near[The Bakers]', 'output': ['The Golden Curry offers English food at a high price. It is near The Bakers. It should be noted that it is not kids friendly.']}\n",
      "{'input': 'name[The Plough], eatType[restaurant], familyFriendly[yes], near[Express by Holiday Inn]', 'output': ['There is a kids friendly restaurant called The Plough near Express by Holiday Inn.']}\n",
      "{'input': 'name[Blue Spice], priceRange[more than £30], customer rating[5 out of 5], area[city centre], familyFriendly[no]', 'output': ['In the city centre the Blue Spice has a customer rating of 5 out of 5 price ranging more than £30. It however is a none children friendly place.']}\n",
      "{'input': 'name[The Golden Curry], food[Fast food], priceRange[less than £20], familyFriendly[no], near[The Bakers]', 'output': ['Near The Bakers is The Golden Curry, which is a fast food place with a price range of less than £20 and is not family-friendly.']}\n",
      "{'input': 'name[The Mill], eatType[pub], food[English], priceRange[high], area[city centre]', 'output': ['The Mill is a English pub located in the city centre area with a high price range']}\n",
      "{'input': 'name[The Golden Curry], food[Fast food], customer rating[5 out of 5], familyFriendly[yes]', 'output': ['The Golden Curry is a five star establishment with a family friendly atmosphere.']}\n",
      "{'input': 'name[The Rice Boat], priceRange[high], customer rating[3 out of 5], near[Rainbow Vegetarian Café]', 'output': ['Near the Rainbow Vegetarian Café, there is a place called The Rice Boat. It is high-priced, and has a 3 out of 5 customer rating.']}\n",
      "{'input': 'name[Cocum], eatType[pub], priceRange[more than £30], customer rating[5 out of 5], familyFriendly[no]', 'output': ['A pub that is not children friendly is Cocum. The customer rating is 5 out of 5 and the price range is more than 30.']}\n",
      "{'input': 'name[Travellers Rest Beefeater], priceRange[£20-25], customer rating[high], area[city centre], near[Café Adriatic]', 'output': ['Highly rated and mid priced, Travellers Rest Beefeater is located in the city centre near Café Adriatic.']}\n",
      "{'input': 'name[The Vaults], eatType[pub], priceRange[less than £20], customer rating[low], near[Café Adriatic]', 'output': ['The Vaults is a low rated pub located near Café Adriatic. It has a price range under £20.']}\n",
      "{'input': 'name[Giraffe], eatType[coffee shop], priceRange[less than £20], customer rating[average], familyFriendly[no], near[The Bakers]', 'output': ['The Bakers which has a price range of less than £20 was given an average rating by the Giraffe for a non family-friendly coffee shop']}\n",
      "{'input': 'name[Midsummer House], food[Italian], priceRange[high], customer rating[1 out of 5], near[All Bar One]', 'output': ['There is a restaurant near All Bar One called Midsummer House that is expensive.']}\n",
      "{'input': 'name[The Waterman], food[Indian], priceRange[high], customer rating[average], area[city centre], familyFriendly[no]', 'output': ['High priced The Waterman rates average, serving Indian foods located in the city center is not kid friendly.']}\n",
      "{'input': 'name[The Twenty Two], priceRange[less than £20], customer rating[low], area[riverside], familyFriendly[no], near[The Rice Boat]', 'output': ['The one star The Twenty Two is near The Rice Boat. It is cheap but not family friendly.']}\n",
      "{'input': 'name[Alimentum], food[English], priceRange[less than £20], area[city centre], familyFriendly[no]', 'output': ['There is a place that serves English food in the city centre called Alimentum. The price range is less than £20.']}\n",
      "{'input': 'name[Browns Cambridge], eatType[coffee shop], food[Fast food], customer rating[3 out of 5], area[riverside], familyFriendly[yes], near[Crowne Plaza Hotel]', 'output': ['In riverside, near Crowne Plaza Hotel, Browns Cambridge coffee shop has a 3 out of 5 customer rating, serves fast food and is kid friendly.']}\n"
     ]
    }
   ],
   "source": [
    "for i, instance in enumerate(Instances):\n",
    "    print(instance)\n",
    "    if i > 20:\n",
    "        break"
   ]
  },
  {
   "cell_type": "code",
   "execution_count": 14,
   "metadata": {},
   "outputs": [],
   "source": [
    "task_json = {\n",
    "    \"Contributors\": [\n",
    "        \"Gary Haizhi Lai\"\n",
    "    ],\n",
    "    \"Source\": [\n",
    "        \"e2e\"\n",
    "    ],\n",
    "    \"Categories\": [\n",
    "        \"Text Generation\"\n",
    "    ],\n",
    "    \"Definition\": \"In this task, we ask you convert a data table into fluent natural-sounding English sentences. The input is a string of key-value pairs; the output is a natural and grammatical English sentence containing all the information from the input string\",\n",
    "    \"Positive Examples\": [\n",
    "        {\n",
    "            \"input\": \"name[Aromi], eatType[restaurant], food[English], area[city centre]\",\n",
    "            \"output\": \"Aromi is an English restaurant in the city centre.\",\n",
    "            \"explanation\": \"The output sentence faithfully converts the data in the input into a natural-sounding sentence.\"\n",
    "        },\n",
    "        {\n",
    "            \"input\": \"name[The Rice Boat], food[Indian], priceRange[cheap], customer rating[5 out of 5], area[city centre], familyFriendly[yes], near[Express by Holiday Inn]\",\n",
    "            \"output\": \"The Rice Boat is a cheap Indian restaurant in the center of the city near Express by Holiday Inn. It is family friendly and has the highest customer rating.\",\n",
    "            \"explanation\": \"The output sentence correctly contains all the information from the input. It is grammatical and idiomatic.\"\n",
    "        },\n",
    "    ],\n",
    "    \"Negative Examples\": [\n",
    "        {\n",
    "            \"input\": \"name[Blue Spice], eatType[coffee shop], priceRange[more than £30], customer rating[5 out of 5], area[riverside], familyFriendly[yes], near[Avalon]\",\n",
    "            \"output\": \"Blue Spice is a Colombian coffee shop located by the riverside, near Avalon in Boston. Its prices are over £30. Its customer ratings are 5 out of 5.\",\n",
    "            \"explanation\": \"While the output contains most information from the input, it hallucinates by adding ungrounded information such as \\\"Colombian\\\" and \\\"Boston\\\".\"\n",
    "        },\n",
    "        {\n",
    "            \"input\": \"name[The Waterman], food[Japanese], priceRange[less than £20], customer rating[average], area[riverside], familyFriendly[yes]\",\n",
    "            \"output\": \"The Waterman is an expensive family-friendly Chinese restaurant with average customer rating in riverside\",\n",
    "            \"explanation\": \"The output contains incorrect information such as \\\"expensive\\\" and \\\"Chinese restaurant\\\"\"\n",
    "        }\n",
    "    ],\n",
    "    \"Instances\": Instances\n",
    "}\n",
    "\n",
    "# export\n",
    "with open('task949_e2e_text_generation.json', 'w') as fp:\n",
    "    final_json = json.dumps(task_json, indent=4, ensure_ascii=False)\n",
    "    print(final_json, file=fp)"
   ]
  },
  {
   "cell_type": "code",
   "execution_count": null,
   "metadata": {},
   "outputs": [],
   "source": []
  }
 ],
 "metadata": {
  "interpreter": {
   "hash": "81668ee86a9ded77c95d3063bdc2e99dfb7753f240420397bfcb90599fd7ffdc"
  },
  "kernelspec": {
   "display_name": "Python 3.9.5 64-bit ('commonlit': conda)",
   "name": "python3"
  },
  "language_info": {
   "codemirror_mode": {
    "name": "ipython",
    "version": 3
   },
   "file_extension": ".py",
   "mimetype": "text/x-python",
   "name": "python",
   "nbconvert_exporter": "python",
   "pygments_lexer": "ipython3",
   "version": "3.9.5"
  },
  "orig_nbformat": 4
 },
 "nbformat": 4,
 "nbformat_minor": 2
}