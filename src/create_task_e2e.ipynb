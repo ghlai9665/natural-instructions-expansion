{
 "cells": [
  {
   "cell_type": "code",
   "execution_count": 1,
   "metadata": {},
   "outputs": [],
   "source": [
    "%load_ext autoreload  \n",
    "%autoreload 2 \n",
    "%matplotlib inline"
   ]
  },
  {
   "cell_type": "code",
   "execution_count": 2,
   "metadata": {},
   "outputs": [],
   "source": [
    "import torch \n",
    "from tqdm import tqdm\n",
    "import json\n",
    "from datasets import load_dataset\n",
    "from sentence_transformers import CrossEncoder"
   ]
  },
  {
   "cell_type": "code",
   "execution_count": 3,
   "metadata": {},
   "outputs": [
    {
     "name": "stderr",
     "output_type": "stream",
     "text": [
      "Using custom data configuration default\n",
      "Reusing dataset e2e_nlg (/Users/garylai/.cache/huggingface/datasets/e2e_nlg/default/0.0.0/bfeceb720929c2705bd227d1cfe5eaaab102a0bdac10dad618dac1e00c737430)\n",
      "100%|██████████| 3/3 [00:00<00:00, 112.09it/s]\n"
     ]
    }
   ],
   "source": [
    "# get instances\n",
    "dataset = load_dataset('e2e_nlg')\n"
   ]
  },
  {
   "cell_type": "code",
   "execution_count": 4,
   "metadata": {},
   "outputs": [
    {
     "data": {
      "text/plain": [
       "42061"
      ]
     },
     "execution_count": 4,
     "metadata": {},
     "output_type": "execute_result"
    }
   ],
   "source": [
    "dataset = dataset['train']; len(dataset)"
   ]
  },
  {
   "cell_type": "code",
   "execution_count": 5,
   "metadata": {},
   "outputs": [],
   "source": [
    "import random\n",
    "\n",
    "# Write to JSON\n",
    "unique_sentences = set()\n",
    "\n",
    "Instances = []\n",
    "for i in range(1000):\n",
    "    # prevent duplicates\n",
    "    if dataset[i]['human_reference'] in unique_sentences or dataset[i]['meaning_representation'] in unique_sentences:\n",
    "        continue\n",
    "    \n",
    "    unique_sentences.add(dataset[i]['human_reference'])\n",
    "    unique_sentences.add(dataset[i]['meaning_representation'])\n",
    "    \n",
    "    Instances.append({\n",
    "        # \"input\": dataset[i]['meaning_representation'],\n",
    "        # \"output\": [dataset[i]['human_reference']]\n",
    "        \"input\": dataset[i]['human_reference'],\n",
    "        \"output\": [dataset[i]['meaning_representation']]\n",
    "    })"
   ]
  },
  {
   "cell_type": "code",
   "execution_count": 6,
   "metadata": {},
   "outputs": [
    {
     "data": {
      "text/plain": [
       "892"
      ]
     },
     "execution_count": 6,
     "metadata": {},
     "output_type": "execute_result"
    }
   ],
   "source": [
    "len(Instances)"
   ]
  },
  {
   "cell_type": "code",
   "execution_count": 7,
   "metadata": {},
   "outputs": [],
   "source": [
    "random.shuffle(Instances)"
   ]
  },
  {
   "cell_type": "code",
   "execution_count": 9,
   "metadata": {},
   "outputs": [
    {
     "data": {
      "text/plain": [
       "{'meaning_representation': 'name[The Rice Boat], food[Indian], priceRange[cheap], customer rating[5 out of 5], area[city centre], familyFriendly[yes], near[Express by Holiday Inn]',\n",
       " 'human_reference': 'The Rice Boat is a cheap Indian restaurant in the center of the city near Express by Holiday Inn. It is family friendly and has the highest customer rating.'}"
      ]
     },
     "execution_count": 9,
     "metadata": {},
     "output_type": "execute_result"
    }
   ],
   "source": [
    "dataset[-5]"
   ]
  },
  {
   "cell_type": "code",
   "execution_count": 8,
   "metadata": {},
   "outputs": [
    {
     "name": "stdout",
     "output_type": "stream",
     "text": [
      "{'input': 'Blue Spice is in the riverside area, it is a fast food restaurant with a moderate price range.', 'output': ['name[Blue Spice], food[Fast food], priceRange[moderate], area[riverside]']}\n",
      "{'input': 'Strada provides Chinese food in the high price range. It is near Rainbow Vegetarian Café. Its customer rating is 1 out of 5.', 'output': ['name[Strada], food[Chinese], priceRange[high], customer rating[1 out of 5], familyFriendly[no], near[Rainbow Vegetarian Café]']}\n",
      "{'input': 'Low priced, family friendly restaurant Fitzbillies in the riverside area rated three star.', 'output': ['name[Fitzbillies], eatType[coffee shop], food[Fast food], priceRange[cheap], customer rating[average], area[riverside], familyFriendly[yes]']}\n",
      "{'input': 'Near the Express by Holiday Inn is Fitzbillies. It is moderately priced and family friendly.', 'output': ['name[Fitzbillies], priceRange[£20-25], customer rating[3 out of 5], familyFriendly[yes], near[Express by Holiday Inn]']}\n",
      "{'input': 'The Twenty Two provides Chinese food It is located in the riverside.', 'output': ['name[The Twenty Two], food[Chinese], area[riverside], familyFriendly[no]']}\n",
      "{'input': 'The Rice Boat is located near Express by Holiday Inn in the city centre. It serves high quality Indian food in the £20-25 price range and is kids friendly.', 'output': ['name[The Rice Boat], food[Indian], priceRange[£20-25], customer rating[high], area[city centre], familyFriendly[yes], near[Express by Holiday Inn]']}\n",
      "{'input': 'The Olive Grove is an inexpensive, family-friendly pub serving wine and cheese.', 'output': ['name[The Olive Grove], eatType[pub], food[French], priceRange[less than £20], area[riverside], familyFriendly[yes]']}\n",
      "{'input': 'Giraffe is a Pub located outside of the city that is not family friendly.', 'output': ['name[Giraffe], eatType[pub], food[Fast food], area[riverside], familyFriendly[no]']}\n",
      "{'input': 'The Rice Boat is a Italian restaurant it is located near Express by Holiday Inn it is children friendly with an average customer rating the price range is high and it is located near the city centre', 'output': ['name[The Rice Boat], food[Italian], priceRange[high], customer rating[average], area[city centre], familyFriendly[yes], near[Express by Holiday Inn]']}\n",
      "{'input': 'The Phoenix serves English food on the riverside. This venue has a high customer rating.', 'output': ['name[The Phoenix], food[English], customer rating[high], area[riverside]']}\n",
      "{'input': 'Wildwood is an expensive coffee shop located near Ranch, it is rated 5 stars', 'output': ['name[Wildwood], eatType[coffee shop], food[Fast food], priceRange[£20-25], customer rating[high], near[Ranch]']}\n",
      "{'input': 'Browns Cambridge in the riverside area near the Crowne Plaza Hotel is a top notch place for a quick bit in a family friendly coffee shop style atmosphere.', 'output': ['name[Browns Cambridge], eatType[coffee shop], food[Fast food], customer rating[5 out of 5], area[riverside], familyFriendly[yes], near[Crowne Plaza Hotel]']}\n",
      "{'input': 'Bibimbap House is in riverside near Clare Hall and serves Italian food with a price range is more than £30.', 'output': ['name[Bibimbap House], food[Italian], priceRange[more than £30], area[riverside], near[Clare Hall]']}\n",
      "{'input': 'There is low price coffee shop named The Rice Boat serving French food Located in riverside near Express by Holiday Inn with a customer rating of 3 out of 5 but not kids-friendly', 'output': ['name[The Rice Boat], food[French], priceRange[£20-25], customer rating[3 out of 5], area[riverside], familyFriendly[no], near[Express by Holiday Inn]']}\n",
      "{'input': 'Near The Bakers is a Japanese restaurant called The Golden Curry that is kids friendly and has food for 20-25 dollars.', 'output': ['name[The Golden Curry], food[Japanese], priceRange[£20-25], familyFriendly[yes], near[The Bakers]']}\n",
      "{'input': 'The Wrestlers offers cheap Indian food with average customer rating. It is not family friendly.', 'output': ['name[The Wrestlers], food[Indian], priceRange[cheap], customer rating[average], familyFriendly[no]']}\n",
      "{'input': 'There is an English pub near Yippee Noodle Bar. It is called Strada and has a customer rating of 3 out of 5.', 'output': ['name[Strada], eatType[pub], food[English], customer rating[3 out of 5], near[Yippee Noodle Bar]']}\n",
      "{'input': 'The Eagle, a moderately priced Italian coffee shop in the center of the city near Burger King, has a low customer rating and does not welcome children.', 'output': ['name[The Eagle], eatType[coffee shop], food[Italian], priceRange[moderate], customer rating[1 out of 5], area[city centre], familyFriendly[no], near[Burger King]']}\n",
      "{'input': 'The Midsummer House is a restaurant serving English food with an average customer rating. It is located near the Café Rouge.', 'output': ['name[Midsummer House], food[English], customer rating[average], near[Café Rouge]']}\n",
      "{'input': 'The Dumpling Tree is a kid friendly Japanese pub located near The Portland Arms.', 'output': ['name[The Dumpling Tree], eatType[pub], food[Japanese], familyFriendly[yes], near[The Portland Arms]']}\n",
      "{'input': 'The Wrestlers is a store that provides a very expensive ice cream. It is located in Cambridge.', 'output': ['name[The Wrestlers], food[Fast food], priceRange[high], customer rating[1 out of 5], familyFriendly[yes]']}\n",
      "{'input': 'The Waterman, a family friendly place that serves English food, is by the Crowne Plaza Hotel.', 'output': ['name[The Waterman], food[English], familyFriendly[yes], near[Crowne Plaza Hotel]']}\n"
     ]
    }
   ],
   "source": [
    "for i, instance in enumerate(Instances):\n",
    "    print(instance)\n",
    "    if i > 20:\n",
    "        break"
   ]
  },
  {
   "cell_type": "code",
   "execution_count": 14,
   "metadata": {},
   "outputs": [],
   "source": [
    "task_json = {\n",
    "    \"Contributors\": [\n",
    "        \"Gary Haizhi Lai\"\n",
    "    ],\n",
    "    \"Source\": [\n",
    "        \"e2e\"\n",
    "    ],\n",
    "    \"Categories\": [\n",
    "        \"Text Generation\"\n",
    "    ],\n",
    "    \"Definition\": \"In this task, we ask you to parse restaurant descriptions into a structured data table of key-value pairs. Here are the attributes (keys) and their examples values: \\n name: The Eagle,... \\n eatType: restaurant, coffee shop,... \\n familyFriendly: Yes / No \\n priceRange: cheap, expensive,... \\n food: French, Italian,... \\n near: market square,... \\n area: riverside, city center, ... \\n customerRating: 1 of 5 (low), 4 of 5 (high), ...  \\n The output table may contain all or only some of the attributes but must not contain unlisted attributes. For the output to be considered correct, it also must parse all of the attributes existant in the input sentence; in other words, incomplete parsing would be considered incorrect.\",\n",
    "    \"Positive Examples\": [\n",
    "        {\n",
    "            \"input\": \"Aromi is an English restaurant in the city centre.\",\n",
    "            \"output\": \"name[Aromi], eatType[restaurant], food[English], area[city centre]\",\n",
    "            \"explanation\": \"The output correctly parses all the parseable attributes in the input, no more, no less.\"\n",
    "        },\n",
    "        {\n",
    "            \"input\": \"The Rice Boat is a cheap Indian restaurant in the center of the city near Express by Holiday Inn. It is family friendly and has the highest customer rating.\",\n",
    "            \"output\": \"name[The Rice Boat], food[Indian], priceRange[cheap], customer rating[5 out of 5], area[city centre], familyFriendly[yes], near[Express by Holiday Inn]\",\n",
    "            \"explanation\": \"The output data table contains all the correct attributes and values from the input. All the attributes are as listed in the instruction; there are no made-up attributes.\"\n",
    "        },\n",
    "    ],\n",
    "    \"Negative Examples\": [\n",
    "        {\n",
    "            \"input\": \"Blue Spice is a coffee shop located by the riverside, near Avalon. Its prices are over £30. Its customer ratings are 5 out of 5.\",\n",
    "            \"output\": \"name[Blue Spice], eatType[pub], priceRange[more than £30], customer rating[5 out of 5], area[Boston], familyFriendly[yes], near[Avalon]\",\n",
    "            \"explanation\": \"The values for some of the attributes are incorrect e.g. \\\"pub\\\" and \\\"Boston\\\".\"\n",
    "        },\n",
    "        {\n",
    "            \"input\": \"The Waterman is an expensive family-friendly Japanese restaurant with average customer rating in riverside\",\n",
    "            \"output\": \"name[The Waterman], customer rating[average], area[riverside], familyFriendly[yes]\",\n",
    "            \"explanation\": \"While the output correctly parses various attributes, it leaves out some parseable attributes such as \\\"food[Japanese]\\\" and \\\"priceRange[expensive]\\\"\", \n",
    "        },\n",
    "        {\n",
    " \"input\": \"The Rice Boat is a cheap Indian restaurant in the center of the city near Express by Holiday Inn. It is family friendly and has the highest customer rating.\",\n",
    "            \"output\": \"name[The Rice Boat], type[cheap Indian restaurant], food[Indian], priceRange[cheap], customer rating[5 out of 5], area[city centre], familyFriendly[yes], near[Express by Holiday Inn]\",\n",
    "            \"explanation\": \"While most of the attributes were parsed correctly, \\\"type[cheap Indian restaurant]\\\" is a made-up attribute and therefore the output is considered incorrect.\"\n",
    " }\n",
    "    ],\n",
    "    \"Instances\": Instances\n",
    "}\n",
    "\n",
    "# export\n",
    "with open('task950_e2e_text_generation.json', 'w') as fp:\n",
    "    final_json = json.dumps(task_json, indent=4, ensure_ascii=False)\n",
    "    print(final_json, file=fp)"
   ]
  },
  {
   "cell_type": "code",
   "execution_count": null,
   "metadata": {},
   "outputs": [],
   "source": []
  }
 ],
 "metadata": {
  "interpreter": {
   "hash": "81668ee86a9ded77c95d3063bdc2e99dfb7753f240420397bfcb90599fd7ffdc"
  },
  "kernelspec": {
   "display_name": "Python 3.9.5 64-bit ('commonlit': conda)",
   "name": "python3"
  },
  "language_info": {
   "codemirror_mode": {
    "name": "ipython",
    "version": 3
   },
   "file_extension": ".py",
   "mimetype": "text/x-python",
   "name": "python",
   "nbconvert_exporter": "python",
   "pygments_lexer": "ipython3",
   "version": "3.9.5"
  },
  "orig_nbformat": 4
 },
 "nbformat": 4,
 "nbformat_minor": 2
}