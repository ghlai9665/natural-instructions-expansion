{
 "cells": [
  {
   "cell_type": "code",
   "execution_count": 1,
   "metadata": {},
   "outputs": [],
   "source": [
    "%load_ext autoreload  \n",
    "%autoreload 2 \n",
    "%matplotlib inline"
   ]
  },
  {
   "cell_type": "code",
   "execution_count": 2,
   "metadata": {},
   "outputs": [],
   "source": [
    "import torch \n",
    "from tqdm import tqdm\n",
    "import json\n",
    "from datasets import load_dataset\n",
    "from sentence_transformers import CrossEncoder"
   ]
  },
  {
   "cell_type": "code",
   "execution_count": 3,
   "metadata": {},
   "outputs": [
    {
     "name": "stderr",
     "output_type": "stream",
     "text": [
      "Reusing dataset wiki_auto (/Users/garylai/.cache/huggingface/datasets/wiki_auto/auto_acl/1.0.0/5ffdd9fc62422d29bd02675fb9606f77c1251ee17169ac10b143ce07ef2f4db8)\n",
      "100%|██████████| 1/1 [00:00<00:00, 13.45it/s]\n"
     ]
    }
   ],
   "source": [
    "# get instances\n",
    "dataset = load_dataset(\n",
    "    'wiki_auto', 'auto_acl')"
   ]
  },
  {
   "cell_type": "code",
   "execution_count": 4,
   "metadata": {},
   "outputs": [],
   "source": [
    "model = CrossEncoder('cross-encoder/stsb-roberta-large')"
   ]
  },
  {
   "cell_type": "code",
   "execution_count": 5,
   "metadata": {},
   "outputs": [],
   "source": [
    "# get paraphrase simliarity scores\n",
    "# scores = []\n",
    "# for sample in tqdm(zip(dataset['full'][:500]['normal_sentence'], dataset['full'][:500]['simple_sentence'])):\n",
    "#     normal_sentence, simple_sentence = sample\n",
    "#     score = model.predict([normal_sentence, simple_sentence])\n",
    "#     scores.append(score)"
   ]
  },
  {
   "cell_type": "code",
   "execution_count": 5,
   "metadata": {},
   "outputs": [],
   "source": [
    "# get top k \n",
    "# score_tensor = torch.tensor(scores)\n",
    "score_tensor = torch.load(\"./scores.pt\")"
   ]
  },
  {
   "cell_type": "code",
   "execution_count": 6,
   "metadata": {},
   "outputs": [],
   "source": [
    "# score_tensor.shape[0]"
   ]
  },
  {
   "cell_type": "code",
   "execution_count": 6,
   "metadata": {},
   "outputs": [],
   "source": [
    "topk_scores, topk_indices = torch.topk(score_tensor, score_tensor.shape[0])"
   ]
  },
  {
   "cell_type": "code",
   "execution_count": 7,
   "metadata": {},
   "outputs": [],
   "source": [
    "# utility\n",
    "index_to_score = {}\n",
    "for sample in zip(topk_indices, topk_scores):\n",
    "    index, score = sample\n",
    "    index_to_score[int(index)] = float(score)"
   ]
  },
  {
   "cell_type": "code",
   "execution_count": 8,
   "metadata": {},
   "outputs": [],
   "source": [
    "def filter_indices(difference=80, similarity_threshold=0.8):\n",
    "    \"\"\"\n",
    "    Args: \n",
    "        - difference: normal sentence must be at least `difference` characters longer to be selected\n",
    "        - similarity_threshold: normal sentence and simple sentence must be at least this similarity and above\n",
    "    \"\"\"\n",
    "    filtered_indices = []\n",
    "    for i in topk_indices:\n",
    "        index = int(i)\n",
    "        # check normal sentence is sufficiently longer\n",
    "        if (len(dataset['full'][index]['normal_sentence']) - len(dataset['full'][index]['simple_sentence'])) < difference:\n",
    "            continue\n",
    "        # check two sentences are sufficiently similar\n",
    "        if index_to_score[index] < similarity_threshold:\n",
    "            continue         \n",
    "        filtered_indices.append(index)\n",
    "\n",
    "    return filtered_indices"
   ]
  },
  {
   "cell_type": "code",
   "execution_count": 9,
   "metadata": {},
   "outputs": [],
   "source": [
    "filtered_indices = filter_indices(difference=80, similarity_threshold=0.86)"
   ]
  },
  {
   "cell_type": "code",
   "execution_count": 10,
   "metadata": {},
   "outputs": [
    {
     "data": {
      "text/plain": [
       "1790"
      ]
     },
     "execution_count": 10,
     "metadata": {},
     "output_type": "execute_result"
    }
   ],
   "source": [
    "len(filtered_indices)"
   ]
  },
  {
   "cell_type": "code",
   "execution_count": 11,
   "metadata": {},
   "outputs": [],
   "source": [
    "filtered_ds = dataset['full'].select(filtered_indices)"
   ]
  },
  {
   "cell_type": "code",
   "execution_count": 12,
   "metadata": {},
   "outputs": [],
   "source": [
    "def clean_sentence(sentence):\n",
    "    replacement = {\n",
    "        \"-LRB-\": \"(\",\n",
    "        \"-RRB-\": \")\",\n",
    "        \"\\n\": \"\"\n",
    "    }\n",
    "\n",
    "    cleaned_sentence = sentence\n",
    "    for substring in replacement.keys():\n",
    "        if substring in cleaned_sentence:\n",
    "            cleaned_sentence = cleaned_sentence.replace(substring, replacement[substring])\n",
    "    return cleaned_sentence\n",
    "\n",
    "# print(clean_sentence(filtered_ds['normal_sentence'][0]))"
   ]
  },
  {
   "cell_type": "code",
   "execution_count": 13,
   "metadata": {},
   "outputs": [
    {
     "name": "stdout",
     "output_type": "stream",
     "text": [
      "--------------------------------------------------------------------------------\n",
      "normal_sentence: A tram stop , tram station , streetcar stop , or light rail station is a place designated for a tram , streetcar , or light rail vehicle to stop so passengers can board or alight it . \n",
      "simple_sentence: A tram stop is a place where a tram stops so passengers can get on or get off . \n",
      "original_index: 347272\n",
      "score:  0.9704071283340454\n",
      "--------------------------------------------------------------------------------\n",
      "normal_sentence: On March 13 , 2018 , President Donald Trump announced he would nominate Haspel to be the Director of the Central Intelligence Agency , replacing Mike Pompeo — whom he tapped to become the new Secretary of State . \n",
      "simple_sentence: On March 13 , 2018 , Haspel was nominated by President Trump to become the CIA Director , replacing Mike Pompeo . \n",
      "original_index: 424382\n",
      "score:  0.9700686931610107\n",
      "--------------------------------------------------------------------------------\n",
      "normal_sentence: A cue stick ( or simply cue , more specifically billiards cue , pool cue , or snooker cue ) , is an item of sporting equipment essential to the games of pool , snooker and carom billiards . \n",
      "simple_sentence: A cue stick ( or simply cue ) , is a kind of stick used for sports like pool , snooker and carom billiards . \n",
      "original_index: 11364\n",
      "score:  0.9695107340812683\n",
      "--------------------------------------------------------------------------------\n",
      "normal_sentence: Best Actress in a Supporting Role is a British Academy Film Award presented annually by the British Academy of Film and Television Arts ( BAFTA ) to recognize an actress who has delivered an outstanding supporting performance in a film . \n",
      "simple_sentence: Best Actress in a Supporting Role is a British Academy Film award presented each year by the British Academy of Film and Television Arts ( BAFTA ) . \n",
      "original_index: 4851\n",
      "score:  0.9687157869338989\n",
      "--------------------------------------------------------------------------------\n",
      "normal_sentence: Best Actor in a Supporting Role is a British Academy Film Award presented annually by the British Academy of Film and Television Arts ( BAFTA ) to recognize an actor who has delivered an outstanding supporting performance in a film . \n",
      "simple_sentence: Best Actor in a Supporting Role is a British Academy Film award presented each year by the British Academy of Film and Television Arts ( BAFTA ) . \n",
      "original_index: 80910\n",
      "score:  0.9686499238014221\n",
      "--------------------------------------------------------------------------------\n",
      "normal_sentence: Best Actor in a Leading Role is a British Academy Film Award presented annually by the British Academy of Film and Television Arts ( BAFTA ) to recognize an actor who has delivered an outstanding leading performance in a film . \n",
      "simple_sentence: Best Actor in a Leading Role is a British Academy Film award presented each year by the British Academy of Film and Television Arts ( BAFTA ) . \n",
      "original_index: 153541\n",
      "score:  0.9684270620346069\n",
      "--------------------------------------------------------------------------------\n",
      "normal_sentence: Lesser Poland Voivodeship or Lesser Poland Province ( in ) , also known as \" Małopolska Voivodeship \" or \" Małopolska Province \" , is a voivodeship ( province ) , in southern Poland . \n",
      "simple_sentence: Lesser Poland Voivodeship , or Małopolska Province , is a voivodeship , or province , in southern Poland . \n",
      "original_index: 262223\n",
      "score:  0.967937707901001\n",
      "--------------------------------------------------------------------------------\n",
      "normal_sentence: Best Actress in a Leading Role is a British Academy Film Award presented annually by the British Academy of Film and Television Arts ( BAFTA ) to recognize an actress who has delivered an outstanding leading performance in a film . \n",
      "simple_sentence: Best Actress in a Leading Role is a British Academy Film award presented each year by the British Academy of Film and Television Arts ( BAFTA ) . \n",
      "original_index: 111609\n",
      "score:  0.9678975939750671\n",
      "--------------------------------------------------------------------------------\n",
      "normal_sentence: Holder of a Master 's degree in biochemistry ( 1997 ) and another one in enzyme engineering , microbiology and bioconversion , Vanessa Proux graduated from University of Technology of Compie ̀ gne in October 2001 ( Doctorate in enzyme engineering , microbiology and bioconversion ) . \n",
      "simple_sentence: Holder of a Master 's degree in biochemistry ( 1997 ) and one more in microbiology , Vanessa Proux graduates from University of Technology of Compie ̀ gne in October 2001 ( Doctorate in microbiology ) . \n",
      "original_index: 115936\n",
      "score:  0.9677926301956177\n",
      "--------------------------------------------------------------------------------\n",
      "normal_sentence: The Royal Banner of the Royal Arms of Scotland , also known as the Royal Banner of Scotland , or more commonly the Lion Rampant of Scotland , and historically as the Royal Standard of Scotland , or Banner of the King of Scots , is the Royal Banner of Scotland , and historically , the Royal Standard of the Kingdom of Scotland . \n",
      "simple_sentence: The Royal Standard of Scotland , , also known as the Banner of the King of Scots , or more commonly the Lion Rampant of Scotland , is the Scottish Royal Banner of Arms . \n",
      "original_index: 158510\n",
      "score:  0.9650301933288574\n",
      "--------------------------------------------------------------------------------\n",
      "normal_sentence: American Airlines Flight 191 was a regularly scheduled passenger flight operated by American Airlines from O 'Hare International Airport in Chicago , Illinois , to Los Angeles International Airport in Los Angeles , California . \n",
      "simple_sentence: American Airlines Flight 191 was a scheduled commercial flight from O 'Hare International Airport in Chicago to Los Angeles International Airport . \n",
      "original_index: 465218\n",
      "score:  0.9639391303062439\n",
      "--------------------------------------------------------------------------------\n",
      "normal_sentence: In the law of torts , an invitee is a person who is invited to land by the possessor of the land as a member of the public or one who enters the land of another for the purpose of business dealings with the possessor of the land . \n",
      "simple_sentence: In tort law , an invitee is a member of the public who has been invited to do business with the owner of a property . \n",
      "original_index: 358338\n",
      "score:  0.9633445739746094\n",
      "--------------------------------------------------------------------------------\n",
      "normal_sentence: In Bettelheim 's view , the tale fails to encourage children \" to pursue the hard labor of solving , one at a time , the problems which growing up presents \" , and does not end as fairy tales should with the \" promise of future happiness awaiting those who have mastered their Oedipal situation as a child \" . \n",
      "simple_sentence: The story does not encourage children to solve the problems of growing up , Bettelheim writes , and does not end with the traditional \" happily ever after \" promise for those who solve their Oedipal issues . \n",
      "original_index: 241569\n",
      "score:  0.9631208181381226\n",
      "--------------------------------------------------------------------------------\n",
      "normal_sentence: Nelson Mandela International Day ( or Mandela Day ) is an annual international day in honour of Nelson Mandela , celebrated each year on 18 July , Mandela 's birthday . \n",
      "simple_sentence: It is celebrated each year on 18 July ( Mandela 's birthday ) . \n",
      "original_index: 387570\n",
      "score:  0.962965726852417\n",
      "--------------------------------------------------------------------------------\n",
      "normal_sentence: On the smaller scale , particularly in some African countries , food power has been used as a weapon by opposing sides in internal wars and conflicts against their own people . \n",
      "simple_sentence: Some African countries have used food power in internal conflicts on a smaller scale . \n",
      "original_index: 474773\n",
      "score:  0.9623358249664307\n",
      "--------------------------------------------------------------------------------\n",
      "normal_sentence: Olympique de Marseille ( -RSB- , ) , also known as OM ( -RSB- , ) or simply Marseille , is a French football club in Marseille in France . \n",
      "simple_sentence: Olympique de Marseille is a football club from France . \n",
      "original_index: 320738\n",
      "score:  0.9604917168617249\n",
      "--------------------------------------------------------------------------------\n",
      "normal_sentence: This is a list of football clubs in Sweden , for women 's football clubs , see the list of women 's football clubs in Sweden . \n",
      "simple_sentence: This is a list of football clubs in Sweden . \n",
      "original_index: 155220\n",
      "score:  0.9604393839836121\n",
      "--------------------------------------------------------------------------------\n",
      "normal_sentence: The Conservatoire national supe ́ rieur d 'art dramatique ( CNSAD ) ( National Superior Conservatory of the Dramatic Arts ) is the conservatory for acting , drama , and theatre , known by its acronym CNSAD . \n",
      "simple_sentence: One is for Acting , Theatre and Drama and is called the \" Conservatoire National Supe ́ rieur d 'Art Dramatique \" ( CNSAD ) . \n",
      "original_index: 424333\n",
      "score:  0.960018515586853\n",
      "--------------------------------------------------------------------------------\n",
      "normal_sentence: Cruel and unusual punishment is a phrase describing punishment that is considered unacceptable due to the suffering , pain , or humiliation it inflicts on the person subjected to it . \n",
      "simple_sentence: Cruel and unusual punishment is punishment that causes severe suffering , pain , or humiliation . \n",
      "original_index: 166502\n",
      "score:  0.959850549697876\n",
      "--------------------------------------------------------------------------------\n",
      "normal_sentence: This caused the closure of most textile and furniture factories and contributed to economic difficulties for a community that was heavily dependent on these two industries for employment . \n",
      "simple_sentence: This caused most textile and furniture factories to close , creating economic difficulties in the area . \n",
      "original_index: 229147\n",
      "score:  0.9588356614112854\n",
      "--------------------------------------------------------------------------------\n",
      "normal_sentence: The BPI ( British Recorded Music Industry ) Limited , commonly known as the British Phonographic Industry or BPI , is the British recorded music industry 's trade association . \n",
      "simple_sentence: The British Phonographic Industry ( BPI ) is the British record industry 's trade association . \n",
      "original_index: 230676\n",
      "score:  0.955814003944397\n"
     ]
    }
   ],
   "source": [
    "# check\n",
    "for i, sample in enumerate(zip(filtered_ds['normal_sentence'], filtered_ds['simple_sentence'])):\n",
    "    if i > 20:\n",
    "        break\n",
    "    normal_sentence, simple_sentence = sample\n",
    "    normal_sentence, simple_sentence = clean_sentence(normal_sentence), clean_sentence(simple_sentence)\n",
    "    print(\"-\" * 80)\n",
    "    print(f\"normal_sentence: {normal_sentence} \\nsimple_sentence: {simple_sentence} \\noriginal_index: {filtered_indices[i]}\" )\n",
    "    print(\"score: \", index_to_score[filtered_indices[i]])"
   ]
  },
  {
   "cell_type": "code",
   "execution_count": 14,
   "metadata": {},
   "outputs": [
    {
     "name": "stderr",
     "output_type": "stream",
     "text": [
      "<ipython-input-14-e58b535cc2c8>:2: DeprecationWarning: Using or importing the ABCs from 'collections' instead of from 'collections.abc' is deprecated since Python 3.3, and in 3.10 it will stop working\n",
      "  from collections import Set\n"
     ]
    },
    {
     "name": "stdout",
     "output_type": "stream",
     "text": [
      "first instance:  {'input': 'A tram stop is a place where a tram stops so passengers can get on or get off .', 'output': ['A tram stop , tram station , streetcar stop , or light rail station is a place designated for a tram , streetcar , or light rail vehicle to stop so passengers can board or alight it .']}\n"
     ]
    }
   ],
   "source": [
    "import random\n",
    "from collections import Set\n",
    "\n",
    "# Write to JSON\n",
    "unique_sentences = set()\n",
    "\n",
    "Instances = []\n",
    "for i in range(len(filtered_ds)):\n",
    "    # prevent duplicates\n",
    "    if filtered_ds[i]['normal_sentence'] in unique_sentences:\n",
    "        continue\n",
    "    \n",
    "    unique_sentences.add(filtered_ds[i]['normal_sentence'])\n",
    "    normal_sentence = clean_sentence(filtered_ds[i]['normal_sentence'])\n",
    "    simple_sentence = clean_sentence(filtered_ds[i]['simple_sentence'])\n",
    "    Instances.append({\n",
    "        # 'input': normal_sentence,\n",
    "        # 'output': [simple_sentence]\n",
    "        \"input\": simple_sentence,\n",
    "        \"output\": [normal_sentence]\n",
    "    })\n",
    "\n",
    "print(\"first instance: \", Instances[0])"
   ]
  },
  {
   "cell_type": "code",
   "execution_count": 15,
   "metadata": {},
   "outputs": [
    {
     "data": {
      "text/plain": [
       "1763"
      ]
     },
     "execution_count": 15,
     "metadata": {},
     "output_type": "execute_result"
    }
   ],
   "source": [
    "len(Instances)"
   ]
  },
  {
   "cell_type": "code",
   "execution_count": 16,
   "metadata": {},
   "outputs": [
    {
     "name": "stdout",
     "output_type": "stream",
     "text": [
      "first instance:  {'input': 'Many of the other books they say are written by Ezra ( First Esdras , 3-6 Ezra ) are written after that .', 'output': ['The canonical Book of Ezra and Book of Nehemiah are the oldest sources for the activity of Ezra , whereas many of the other books ascribed to Ezra ( First Esdras , 3 – 6 Ezra ) are later literary works dependent on the canonical books of Ezra and Nehemiah .']}\n"
     ]
    }
   ],
   "source": [
    "random.shuffle(Instances)\n",
    "print(\"first instance: \", Instances[0])"
   ]
  },
  {
   "cell_type": "code",
   "execution_count": 17,
   "metadata": {},
   "outputs": [
    {
     "data": {
      "text/plain": [
       "1763"
      ]
     },
     "execution_count": 17,
     "metadata": {},
     "output_type": "execute_result"
    }
   ],
   "source": [
    "len(Instances)"
   ]
  },
  {
   "cell_type": "code",
   "execution_count": 24,
   "metadata": {},
   "outputs": [],
   "source": [
    "task_json = {\n",
    "    \"Contributors\": [\"Gary Haizhi Lai\"],\n",
    "    \"Source\": [\"wiki_auto\"],\n",
    "    \"Categories\": [\"Style Transfer\"],\n",
    "    \"Definition\": \"In this task, we ask you to make the sentence sound more sophisticated without changing its general meaning. You can do so by using more advanced words, utilizing more complex sentence structures, and making the statement more precise by adding auxiliary information etc.\",\n",
    "    \"Positive Examples\": [\n",
    "        {\n",
    "            \"input\": \"Rutherford discovered the radioactive half-life, the chemical element radon, and the three parts of radiation which he named Alpha, Beta, and Gamma .\\n\",\n",
    "            \"output\": \"In his early work , Rutherford discovered the concept of radioactive half-life, the radioactive element radon, and classified three types of radiations: alpha, beta and gamma radiation .\\n\",\n",
    "            \"explanation\": \"The output sentence used more complex words such as \\\"discovered\\\" and \\\"classified\\\".\"\n",
    "        },\n",
    "        {\n",
    "            \"input\": \"The Inheritance Cycle is a series of fantasy books written by Christopher Paolini.\",\n",
    "            \"output\": \"The Inheritance Cycle is a tetralogy of young adult high fantasy novels written by American author Christopher Paolini.\",\n",
    "            \"explanation\": \"The output sentence is more specific and precise than the input sentence -- it contains auxiliary information such as that the Inheritance Cycle is a \\\"tetralogy of young adult high fantasy novels\\\".\"\n",
    "        },\n",
    "        {\n",
    "        \"input\": \"The Greco-Roman or Graeco-Roman world , refers to geographical regions and countries who had the language , culture , government or religion of the ancient Greeks and Romans.\",\n",
    "        \"output\": \"The Greco-Roman world , Greco-Roman culture , or the term Greco-Roman (spelled Graeco-Roman in the United Kingdom and the Commonwealth), when used as an adjective , as understood by modern scholars and writers , refers to those geographical regions and countries that culturally ( and so historically ) were directly , long-term , and intimately influenced by the language , culture , government and religion of the ancient Greeks and Romans.\",\n",
    "        \"explanation\": \"The output sentence has more sophisticated vocabulary and sentence structures. It adds qualifiers and is much more specific.\"\n",
    "        }\n",
    "    ],\n",
    "    \"Negative Examples\": [{\"input\": \"Boryla, an American football quarterback, did not participate in the 1952 playoffs.\",\n",
    "                            \"output\": \"Boryla was not in the 1952 playoffs.\", \n",
    "                            \"explanation\": \"The output sentence less sophisticated than the input sentence -- it is less specific and uses simpler words.\"},\n",
    "                          {\"input\": \"The wild population in China decreased to around 2,000 in 2005.\",\n",
    "                           \"output\": \"By 2005, the wild population decreased to about 2,000.\",\n",
    "                           \"explanation\": \"The output sentence changed the meaning of the input sentence.\"\n",
    "                           }\n",
    "                          ],\n",
    "    \"Instances\": Instances\n",
    "}\n",
    "\n",
    "# export\n",
    "with open('task934_wiki_auto_style_transfer.json', 'w') as fp:\n",
    "    final_json = json.dumps(task_json, indent=4, ensure_ascii=False)\n",
    "    print(final_json, file=fp)"
   ]
  },
  {
   "cell_type": "code",
   "execution_count": null,
   "metadata": {},
   "outputs": [],
   "source": []
  }
 ],
 "metadata": {
  "interpreter": {
   "hash": "81668ee86a9ded77c95d3063bdc2e99dfb7753f240420397bfcb90599fd7ffdc"
  },
  "kernelspec": {
   "display_name": "Python 3.9.5 64-bit ('commonlit': conda)",
   "name": "python3"
  },
  "language_info": {
   "codemirror_mode": {
    "name": "ipython",
    "version": 3
   },
   "file_extension": ".py",
   "mimetype": "text/x-python",
   "name": "python",
   "nbconvert_exporter": "python",
   "pygments_lexer": "ipython3",
   "version": "3.9.5"
  },
  "orig_nbformat": 4
 },
 "nbformat": 4,
 "nbformat_minor": 2
}