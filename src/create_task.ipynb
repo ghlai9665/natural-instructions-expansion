{
 "cells": [
  {
   "cell_type": "code",
   "execution_count": 1,
   "metadata": {},
   "outputs": [],
   "source": [
    "%load_ext autoreload  \n",
    "%autoreload 2 \n",
    "%matplotlib inline"
   ]
  },
  {
   "cell_type": "code",
   "execution_count": 2,
   "metadata": {},
   "outputs": [],
   "source": [
    "import torch \n",
    "from tqdm import tqdm\n",
    "import json\n",
    "from datasets import load_dataset\n",
    "from sentence_transformers import CrossEncoder"
   ]
  },
  {
   "cell_type": "code",
   "execution_count": 3,
   "metadata": {},
   "outputs": [
    {
     "name": "stderr",
     "output_type": "stream",
     "text": [
      "Reusing dataset wiki_auto (/Users/garylai/.cache/huggingface/datasets/wiki_auto/auto_acl/1.0.0/5ffdd9fc62422d29bd02675fb9606f77c1251ee17169ac10b143ce07ef2f4db8)\n",
      "100%|██████████| 1/1 [00:00<00:00, 54.81it/s]\n"
     ]
    }
   ],
   "source": [
    "# get instances\n",
    "dataset = load_dataset(\n",
    "    'wiki_auto', 'auto_acl')"
   ]
  },
  {
   "cell_type": "code",
   "execution_count": 4,
   "metadata": {},
   "outputs": [],
   "source": [
    "model = CrossEncoder('cross-encoder/stsb-roberta-large')"
   ]
  },
  {
   "cell_type": "code",
   "execution_count": 5,
   "metadata": {},
   "outputs": [
    {
     "name": "stderr",
     "output_type": "stream",
     "text": [
      "500it [03:03,  2.73it/s]\n"
     ]
    }
   ],
   "source": [
    "# get paraphrase simliarity scores\n",
    "scores = []\n",
    "for sample in tqdm(zip(dataset['full'][:500]['normal_sentence'], dataset['full'][:500]['simple_sentence'])):\n",
    "    normal_sentence, simple_sentence = sample\n",
    "    score = model.predict([normal_sentence, simple_sentence])\n",
    "    scores.append(score)"
   ]
  },
  {
   "cell_type": "code",
   "execution_count": 6,
   "metadata": {},
   "outputs": [],
   "source": [
    "# get top k \n",
    "score_tensor = torch.tensor(scores); score_tensor\n",
    "topk_scores, topk_indices = torch.topk(score_tensor, 500)"
   ]
  },
  {
   "cell_type": "code",
   "execution_count": 7,
   "metadata": {},
   "outputs": [],
   "source": [
    "# utility\n",
    "index_to_score = {}\n",
    "for sample in zip(topk_indices, topk_scores):\n",
    "    index, score = sample\n",
    "    index_to_score[int(index)] = float(score)"
   ]
  },
  {
   "cell_type": "code",
   "execution_count": 8,
   "metadata": {},
   "outputs": [],
   "source": [
    "def filter_indices(difference=80, similarity_threshold=0.8):\n",
    "    \"\"\"\n",
    "    Args: \n",
    "        - difference: normal sentence must be at least `difference` characters longer to be selected\n",
    "        - similarity_threshold: normal sentence and simple sentence must be at least this similarity and above\n",
    "    \"\"\"\n",
    "    filtered_indices = []\n",
    "    for i in topk_indices:\n",
    "        index = int(i)\n",
    "        # check normal sentence is sufficiently longer\n",
    "        if (len(dataset['full'][index]['normal_sentence']) - len(dataset['full'][index]['simple_sentence'])) < difference:\n",
    "            continue\n",
    "        # check two sentences are sufficiently similar\n",
    "        if index_to_score[index] < similarity_threshold:\n",
    "            continue         \n",
    "        filtered_indices.append(index)\n",
    "\n",
    "    return filtered_indices"
   ]
  },
  {
   "cell_type": "code",
   "execution_count": 9,
   "metadata": {},
   "outputs": [],
   "source": [
    "filtered_indices = filter_indices(difference=80, similarity_threshold=0.85)\n",
    "filtered_ds = dataset['full'].select(filtered_indices)"
   ]
  },
  {
   "cell_type": "code",
   "execution_count": 10,
   "metadata": {},
   "outputs": [
    {
     "data": {
      "text/plain": [
       "'A tank car -LRB- International Union of Railways -LRB- UIC -RRB- : tank wagon -RRB- is a type of railroad car -LRB- UIC : railway car -RRB- or rolling stock designed to transport liquid and gaseous commodities .\\n'"
      ]
     },
     "execution_count": 10,
     "metadata": {},
     "output_type": "execute_result"
    }
   ],
   "source": [
    "filtered_ds['normal_sentence'][0]"
   ]
  },
  {
   "cell_type": "code",
   "execution_count": 31,
   "metadata": {},
   "outputs": [],
   "source": [
    "def clean_sentence(sentence):\n",
    "    replacement = {\n",
    "        \"-LRB-\": \"(\",\n",
    "        \"-RRB-\": \")\",\n",
    "        \"\\\\n\": \"\"\n",
    "    }\n",
    "\n",
    "    cleaned_sentence = sentence\n",
    "    for substring in replacement.keys():\n",
    "        if substring in cleaned_sentence:\n",
    "            cleaned_sentence = cleaned_sentence.replace(substring, replacement[substring])\n",
    "    return cleaned_sentence\n",
    "\n",
    "# print(clean_sentence(filtered_ds['normal_sentence'][0]))"
   ]
  },
  {
   "cell_type": "code",
   "execution_count": 32,
   "metadata": {},
   "outputs": [
    {
     "name": "stdout",
     "output_type": "stream",
     "text": [
      "--------------------------------------------------------------------------------\n",
      "normal_sentence: A tank car ( International Union of Railways ( UIC ) : tank wagon ) is a type of railroad car ( UIC : railway car ) or rolling stock designed to transport liquid and gaseous commodities .\n",
      " \n",
      "simple_sentence: A tank car or tank wagon is a type of railroad car designed to transport liquids or gases .\n",
      " \n",
      "original_index: 35\n",
      "score:  0.9384129047393799\n",
      "--------------------------------------------------------------------------------\n",
      "normal_sentence: Industrial waste is the waste produced by industrial activity which includes any material that is rendered useless during a manufacturing process such as that of factories , industries , mills , and mining operations .\n",
      " \n",
      "simple_sentence: Industrial waste is the waste produced by industrial activity , such as that of factories , mills and mines .\n",
      " \n",
      "original_index: 197\n",
      "score:  0.9271243214607239\n",
      "--------------------------------------------------------------------------------\n",
      "normal_sentence: The current coat of arms of Bahrain is a coat of arms that was originally designed in 1932 by Charles Belgrave , the British governor and adviser to the then-Sheik of Bahrain .\n",
      " \n",
      "simple_sentence: The current coat of arms of Bahrain was made in 1932 by Charles Belgrave .\n",
      " \n",
      "original_index: 157\n",
      "score:  0.8916311860084534\n",
      "--------------------------------------------------------------------------------\n",
      "normal_sentence: The ELTons ( English Language Teaching Innovation Awards ) are international awards given annually by the British Council that recognise and celebrate innovation in the field of English language teaching .\n",
      " \n",
      "simple_sentence: The ELTon Award is given by the British Council for English language teaching innovation .\n",
      " \n",
      "original_index: 57\n",
      "score:  0.8684683442115784\n",
      "--------------------------------------------------------------------------------\n",
      "normal_sentence: The 1950s ( pronounced \" nineteen-fifties \" ; commonly abbreviated as the fifties ( among other variants ) ) was a decade of the Gregorian calendar that began on January 1 , 1950 , and ended on December 31 , 1959 .\n",
      " \n",
      "simple_sentence: The 1950s was the decade that started on January 1 , 1950 , and ended on December 31 , 1959 .\n",
      " \n",
      "original_index: 279\n",
      "score:  0.8677367568016052\n",
      "--------------------------------------------------------------------------------\n",
      "normal_sentence: The International Boxing Federation ( IBF ) is one of four major organizations recognized by the International Boxing Hall of Fame ( IBHOF ) which sanction world championship boxing bouts , alongside the World Boxing Association ( WBA ) , World Boxing Council ( WBC ) and World Boxing Organization ( WBO ) .\n",
      " \n",
      "simple_sentence: The International Boxing Federation , or \" IBF \" , is one of many organizations which sanction world championship boxing bouts , alongside the WBA , WBC , WBO , and a dozen or so others .\n",
      " \n",
      "original_index: 482\n",
      "score:  0.8648174405097961\n",
      "--------------------------------------------------------------------------------\n",
      "normal_sentence: The 2060s ( pronounced \" twenty-sixties \" ) is a decade of the Gregorian calendar that will begin on January 1 , 2060 , and will end on December 31 , 2069 .\n",
      " \n",
      "simple_sentence: The 2060s decade will begin on January 1 , 2060 and will end on December 31 , 2069 .\n",
      " \n",
      "original_index: 371\n",
      "score:  0.8646696209907532\n",
      "--------------------------------------------------------------------------------\n",
      "normal_sentence: Sir George Bailey Sansom ( 28 November 1883 – 8 March 1965 ) was a British diplomat and historian of pre-modern Japan , particularly noted for his historical surveys and his attention to Japanese society and culture .\n",
      " \n",
      "simple_sentence: Sir George Bailey Sansom ( November 28 1883 - March 8 1965 ) was a British diplomat , academic , historian and Japanologist .\n",
      " \n",
      "original_index: 14\n",
      "score:  0.8553726673126221\n"
     ]
    }
   ],
   "source": [
    "# check\n",
    "for i, sample in enumerate(zip(filtered_ds['normal_sentence'], filtered_ds['simple_sentence'])):\n",
    "    normal_sentence, simple_sentence = sample\n",
    "    normal_sentence, simple_sentence = clean_sentence(normal_sentence), clean_sentence(simple_sentence)\n",
    "    print(\"-\" * 80)\n",
    "    print(f\"normal_sentence: {normal_sentence} \\nsimple_sentence: {simple_sentence} \\noriginal_index: {filtered_indices[i]}\" )\n",
    "    print(\"score: \", index_to_score[filtered_indices[i]])"
   ]
  }
 ],
 "metadata": {
  "interpreter": {
   "hash": "81668ee86a9ded77c95d3063bdc2e99dfb7753f240420397bfcb90599fd7ffdc"
  },
  "kernelspec": {
   "display_name": "Python 3.9.5 64-bit ('commonlit': conda)",
   "name": "python3"
  },
  "language_info": {
   "codemirror_mode": {
    "name": "ipython",
    "version": 3
   },
   "file_extension": ".py",
   "mimetype": "text/x-python",
   "name": "python",
   "nbconvert_exporter": "python",
   "pygments_lexer": "ipython3",
   "version": "3.9.5"
  },
  "orig_nbformat": 4
 },
 "nbformat": 4,
 "nbformat_minor": 2
}