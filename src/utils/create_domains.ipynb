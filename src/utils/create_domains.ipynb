{
 "cells": [
  {
   "cell_type": "code",
   "execution_count": 1,
   "metadata": {},
   "outputs": [],
   "source": [
    "import json\n",
    "import os\n",
    "from os import listdir, path\n",
    "from os.path import isfile, join\n",
    "\n",
    "tasks_path = '../../tasks/' \n",
    "dataset_name = \"winogrande\"\n",
    "domains = [\n",
    "        \"Commonsense -> Concepts and Relations -> Social Commonsense\",\n",
    "        \"Commonsense -> Concepts and Relations -> Physical Commonsense\"\n",
    "    ]\n",
    "    \n",
    "def add_domain(task_path, dataset_name, domains):\n",
    "    files = [join(tasks_path, f) for f in listdir(tasks_path) if isfile(join(tasks_path, f)) and dataset_name in f]\n",
    "    files.sort()\n",
    "\n",
    "    for file in files: \n",
    "        with open(file, 'r') as f:\n",
    "            data = json.load(f)\n",
    "            data['Domains'] = domains\n",
    "        os.remove(file)\n",
    "        with open(file, 'w') as f:\n",
    "            modified_json = json.dumps(data, indent=4, ensure_ascii=False)\n",
    "            print(modified_json, file=f)\n",
    "\n",
    "add_domain(tasks_path, dataset_name, domains)"
   ]
  },
  {
   "cell_type": "code",
   "execution_count": null,
   "metadata": {},
   "outputs": [],
   "source": []
  }
 ],
 "metadata": {
  "interpreter": {
   "hash": "3c81a17d1a1e3faaff6cff31da415438efdef4bf8b5521ca27e933c73bfa0719"
  },
  "kernelspec": {
   "display_name": "Python 3.9.6 64-bit ('beautify-cv': conda)",
   "name": "python3"
  },
  "language_info": {
   "codemirror_mode": {
    "name": "ipython",
    "version": 3
   },
   "file_extension": ".py",
   "mimetype": "text/x-python",
   "name": "python",
   "nbconvert_exporter": "python",
   "pygments_lexer": "ipython3",
   "version": "3.9.6"
  },
  "orig_nbformat": 4
 },
 "nbformat": 4,
 "nbformat_minor": 2
}
