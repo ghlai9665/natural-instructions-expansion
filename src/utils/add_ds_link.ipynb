{
 "cells": [
  {
   "cell_type": "code",
   "execution_count": 34,
   "metadata": {},
   "outputs": [
    {
     "name": "stdout",
     "output_type": "stream",
     "text": [
      "The autoreload extension is already loaded. To reload it, use:\n",
      "  %reload_ext autoreload\n"
     ]
    }
   ],
   "source": [
    "%load_ext autoreload  \n",
    "%autoreload 2\n",
    "\n",
    "from utils import *"
   ]
  },
  {
   "cell_type": "code",
   "execution_count": 38,
   "metadata": {},
   "outputs": [],
   "source": [
    "files = get_files(dataset_names = [\"essential\", \"miscellaneous\"], tasks_path = '../../tasks/')"
   ]
  },
  {
   "cell_type": "code",
   "execution_count": 39,
   "metadata": {},
   "outputs": [
    {
     "data": {
      "text/plain": [
       "['../../tasks/task043_essential_terms_answering_incomplete_questions.json',\n",
       " '../../tasks/task044_essential_terms_identifying_essential_words.json',\n",
       " '../../tasks/task045_miscellaneous_sentence_paraphrasing.json',\n",
       " '../../tasks/task046_miscellaneous_question_typing.json',\n",
       " '../../tasks/task047_miscellaneous_answering_science_questions.json',\n",
       " '../../tasks/task722_mmmlu_answer_generation_miscellaneous.json']"
      ]
     },
     "execution_count": 39,
     "metadata": {},
     "output_type": "execute_result"
    }
   ],
   "source": [
    "files"
   ]
  },
  {
   "cell_type": "code",
   "execution_count": 46,
   "metadata": {},
   "outputs": [],
   "source": [
    "# def add_ds_link(link, data):\n",
    "#     data[\"Source\"][0] += \" (\" + link + \")\"\n",
    "\n",
    "# manipulate_func = partial(add_ds_link, \"https://allennlp.org/ropes\")\n",
    "\n",
    "def manipulate_func(data):\n",
    "    for i, category in enumerate(data[\"Categories\"]):\n",
    "        print(\"category: \", category)\n",
    "        if category == \"Reasoning -> Scientific Reasoning\":\n",
    "            print(\"substituted\")\n",
    "            data[\"Categories\"][i] = \"Reasoning -> Qualitative Reasoning\""
   ]
  },
  {
   "cell_type": "code",
   "execution_count": 47,
   "metadata": {},
   "outputs": [
    {
     "name": "stdout",
     "output_type": "stream",
     "text": [
      "category:  Question Answering -> Multiple Choice Question Answering\n",
      "category:  Reasoning -> Scientific Reasoning\n",
      "substituted\n",
      "category:  Reasoning -> Scientific Reasoning\n",
      "substituted\n",
      "category:  Text Span Selection\n",
      "category:  Paraphrasing\n",
      "category:  Text Modification\n",
      "category:  Reasoning -> Scientific Reasoning\n",
      "substituted\n",
      "category:  Classification\n",
      "category:  Reasoning -> Commonsense Reasoning\n",
      "category:  Question Answering -> Multiple Choice Question Answering\n",
      "category:  Classification\n",
      "category:  Reasoning -> Scientific Reasoning\n",
      "substituted\n",
      "category:  Question Answering\n"
     ]
    }
   ],
   "source": [
    "for file in files: \n",
    "    modify_files(file, manipulate_func)"
   ]
  },
  {
   "cell_type": "code",
   "execution_count": null,
   "metadata": {},
   "outputs": [],
   "source": []
  }
 ],
 "metadata": {
  "interpreter": {
   "hash": "3067ead486e059ec00ffe7555bdb889e6e264a24dc711bf108106cc7baee8d5d"
  },
  "kernelspec": {
   "display_name": "Python 3.8.8 64-bit ('base': conda)",
   "name": "python3"
  },
  "language_info": {
   "codemirror_mode": {
    "name": "ipython",
    "version": 3
   },
   "file_extension": ".py",
   "mimetype": "text/x-python",
   "name": "python",
   "nbconvert_exporter": "python",
   "pygments_lexer": "ipython3",
   "version": "3.8.8"
  },
  "orig_nbformat": 4
 },
 "nbformat": 4,
 "nbformat_minor": 2
}
