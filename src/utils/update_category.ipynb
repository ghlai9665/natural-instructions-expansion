{
 "cells": [
  {
   "cell_type": "code",
   "execution_count": 14,
   "metadata": {},
   "outputs": [
    {
     "name": "stdout",
     "output_type": "stream",
     "text": [
      "The autoreload extension is already loaded. To reload it, use:\n",
      "  %reload_ext autoreload\n"
     ]
    }
   ],
   "source": [
    "%load_ext autoreload  \n",
    "%autoreload 2\n",
    "\n",
    "from utils import *"
   ]
  },
  {
   "cell_type": "code",
   "execution_count": 20,
   "metadata": {},
   "outputs": [
    {
     "data": {
      "text/plain": [
       "['../../tasks/task059_ropes_story_generation.json',\n",
       " '../../tasks/task060_ropes_question_generation.json',\n",
       " '../../tasks/task061_ropes_answer_generation.json',\n",
       " '../../tasks/task062_bigbench_repeat_copy_logic.json',\n",
       " '../../tasks/task065_timetravel_consistent_sentence_classification.json',\n",
       " '../../tasks/task066_timetravel_binary_consistency_classification.json',\n",
       " '../../tasks/task067_abductivenli_answer_generation.json',\n",
       " '../../tasks/task068_abductivenli_incorrect_answer_generation.json',\n",
       " '../../tasks/task069_abductivenli_classification.json',\n",
       " '../../tasks/task070_abductivenli_incorrect_classification.json',\n",
       " '../../tasks/task071_abductivenli_answer_generation.json',\n",
       " '../../tasks/task072_abductivenli_answer_generation.json',\n",
       " '../../tasks/task073_commonsenseqa_answer_generation.json',\n",
       " '../../tasks/task074_squad1.1_question_generation.json',\n",
       " '../../tasks/task075_squad1.1_answer_generation.json',\n",
       " '../../tasks/task076_splash_correcting_sql_mistake.json',\n",
       " '../../tasks/task077_splash_explanation_to_sql.json',\n",
       " '../../tasks/task079_conala_concat_strings.json',\n",
       " '../../tasks/task080_piqa_answer_generation.json',\n",
       " '../../tasks/task081_piqa_wrong_answer_generation.json',\n",
       " '../../tasks/task082_babi_t1_single_supporting_fact_question_generation.json',\n",
       " '../../tasks/task083_babi_t1_single_supporting_fact_answer_generation.json',\n",
       " '../../tasks/task084_babi_t1_single_supporting_fact_identify_relevant_fact.json']"
      ]
     },
     "execution_count": 20,
     "metadata": {},
     "output_type": "execute_result"
    }
   ],
   "source": [
    "tasks_path = \"../../tasks/\"\n",
    "files = get_files_by_task_number(59, 81, tasks_path); files"
   ]
  },
  {
   "cell_type": "code",
   "execution_count": 22,
   "metadata": {},
   "outputs": [
    {
     "name": "stdout",
     "output_type": "stream",
     "text": [
      "a\n",
      "b\n",
      "c\n"
     ]
    }
   ],
   "source": [
    "for i, x in enumerate([\"a\", \"b\", \"c\"]):\n",
    "    print()"
   ]
  },
  {
   "cell_type": "code",
   "execution_count": 24,
   "metadata": {},
   "outputs": [],
   "source": [
    "old_to_new_map = {\n",
    "    \"Long Text Generation -> Contextual Text Generation\": \"Text Generation -> Long Text Generation -> Contextual Text Generation\",\n",
    "    \"Sentence Generation -> Story Completion\": \"Text Generation -> Sentence Generation -> Story Completion\"\n",
    "\n",
    "}\n",
    "date_manipulate_func = partial(rename_categories, old_to_new_map)"
   ]
  },
  {
   "cell_type": "code",
   "execution_count": 25,
   "metadata": {},
   "outputs": [],
   "source": [
    "for file in files: \n",
    "    modify_files(file, date_manipulate_func)"
   ]
  },
  {
   "cell_type": "code",
   "execution_count": null,
   "metadata": {},
   "outputs": [],
   "source": []
  }
 ],
 "metadata": {
  "interpreter": {
   "hash": "31f2aee4e71d21fbe5cf8b01ff0e069b9275f58929596ceb00d14d90e3e16cd6"
  },
  "kernelspec": {
   "display_name": "Python 3.8.2 64-bit",
   "name": "python3"
  },
  "language_info": {
   "codemirror_mode": {
    "name": "ipython",
    "version": 3
   },
   "file_extension": ".py",
   "mimetype": "text/x-python",
   "name": "python",
   "nbconvert_exporter": "python",
   "pygments_lexer": "ipython3",
   "version": "3.8.2"
  },
  "orig_nbformat": 4
 },
 "nbformat": 4,
 "nbformat_minor": 2
}
