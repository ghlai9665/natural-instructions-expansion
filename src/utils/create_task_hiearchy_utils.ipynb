{
 "cells": [
  {
   "cell_type": "code",
   "execution_count": 42,
   "source": [
    "import json\n",
    "from os.path import isfile, join\n",
    "from os import listdir\n",
    "\n",
    "\"\"\"\n",
    "For each task file, update its corresponding line in README with new Category, Domain, Input Language and Output Language\n",
    "\"\"\"\n",
    "\n",
    "def add_to_list(l, index, value):\n",
    "    if len(l) < index+1:\n",
    "        l.append(value)\n",
    "    else: \n",
    "        l[index] = value\n",
    "\n",
    "def find_task_and_modify_line(task_name, lines, new_fields): \n",
    "    for i, line in enumerate(lines):\n",
    "        fields = [ x.strip() for x in line.split(\"|\")]\n",
    "        # found the line\n",
    "        if fields[0] == f\"`{task_name}`\":\n",
    "            # modify the feilds\n",
    "            fields[2] = new_fields[\"category\"]\n",
    "            add_to_list(fields, 3, new_fields[\"domains\"])\n",
    "            add_to_list(fields, 4, new_fields[\"input_language\"])\n",
    "            add_to_list(fields, 5, new_fields[\"output_language\"])\n",
    "\n",
    "            lines[i] = \"\\t| \".join(fields) + \"\\n\"\n",
    "\n",
    "# write\n",
    "def update_readme(readme_path, lines):\n",
    "    out = open(readme_path, 'w')\n",
    "    out.writelines(lines); out.close()\n"
   ],
   "outputs": [],
   "metadata": {}
  },
  {
   "cell_type": "code",
   "execution_count": 43,
   "source": [
    "tasks_path = '../tasks/'\n",
    "readme_path = f\"{tasks_path}README.md\"\n",
    "\n",
    "lines = open(readme_path, 'r').readlines()\n",
    "lines[7]\n"
   ],
   "outputs": [
    {
     "output_type": "execute_result",
     "data": {
      "text/plain": [
       "'`task001_quoref_question_generation`\\t| Writing questions that require tracking entity references.\\t| Question Generation\\n'"
      ]
     },
     "metadata": {},
     "execution_count": 43
    }
   ],
   "metadata": {}
  },
  {
   "cell_type": "code",
   "execution_count": 44,
   "source": [
    "files = [f for f in listdir(tasks_path) if isfile(join(tasks_path, f))]\n",
    "files.sort()\n",
    "\n",
    "for file in files:\n",
    "    if \".json\" in file:\n",
    "        file_path = tasks_path + file\n",
    "        with open(file_path, 'r+') as f:\n",
    "            data = json.load(f)\n",
    "            if \"Domains\" in data and \"Input_language\" in data and \"Output_language\" in data: \n",
    "                task_name = os.path.splitext(file)[0]\n",
    "                new_fields = {\n",
    "                    \"category\": data[\"Categories\"][0],\n",
    "                    \"domains\": data[\"Domains\"][0],\n",
    "                    \"input_language\": data[\"Input_language\"][0],\n",
    "                    \"output_language\": data[\"Output_language\"][0]\n",
    "                }\n",
    "                find_task_and_modify_line(task_name, lines, new_fields)\n",
    "                update_readme(readme_path, lines)\n",
    "                print(f\"modified README line for task {task_name}\")"
   ],
   "outputs": [
    {
     "output_type": "stream",
     "name": "stdout",
     "text": [
      "modified README line for task task001_quoref_question_generation\n",
      "modified README line for task task074_squad1.1_question_generation\n",
      "modified README line for task task075_squad1.1_answer_generation\n"
     ]
    }
   ],
   "metadata": {}
  },
  {
   "cell_type": "code",
   "execution_count": 45,
   "source": [
    "!jupyter nbconvert --to script task_hiearchy_utils.ipynb"
   ],
   "outputs": [
    {
     "output_type": "stream",
     "name": "stdout",
     "text": [
      "[NbConvertApp] Converting notebook task_hiearchy_utils.ipynb to script\n",
      "[NbConvertApp] Writing 2012 bytes to task_hiearchy_utils.py\n"
     ]
    }
   ],
   "metadata": {}
  },
  {
   "cell_type": "code",
   "execution_count": null,
   "source": [],
   "outputs": [],
   "metadata": {}
  }
 ],
 "metadata": {
  "orig_nbformat": 4,
  "language_info": {
   "name": "python",
   "version": "3.9.5",
   "mimetype": "text/x-python",
   "codemirror_mode": {
    "name": "ipython",
    "version": 3
   },
   "pygments_lexer": "ipython3",
   "nbconvert_exporter": "python",
   "file_extension": ".py"
  },
  "kernelspec": {
   "name": "python3",
   "display_name": "Python 3.9.5 64-bit ('commonlit': conda)"
  },
  "interpreter": {
   "hash": "81668ee86a9ded77c95d3063bdc2e99dfb7753f240420397bfcb90599fd7ffdc"
  }
 },
 "nbformat": 4,
 "nbformat_minor": 2
}