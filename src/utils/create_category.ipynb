{
 "cells": [
  {
   "cell_type": "code",
   "execution_count": 1,
   "source": [
    "import json\n",
    "import os\n",
    "from os import listdir, path\n",
    "from os.path import isfile, join\n",
    "from functools import partial\n",
    "\n",
    "\"\"\"\n",
    "Script for adding the \"Domains\" field for all the tasks of a given dataset.\n",
    "\"\"\"\n",
    "\n",
    "def get_files(dataset_names = [\"mctaco\"], tasks_path = '../tasks/'):\n",
    "    files = []\n",
    "    # find the task files containing the dataset\n",
    "    for file_name in listdir(tasks_path):\n",
    "        file = join(tasks_path, file_name)\n",
    "        if isfile(file) and any([dataset_name in file_name for dataset_name in dataset_names]):\n",
    "            files.append(file)\n",
    "    files.sort()\n",
    "    return files"
   ],
   "outputs": [],
   "metadata": {}
  },
  {
   "cell_type": "code",
   "execution_count": 2,
   "source": [
    "files = get_files(dataset_names=[\"mctaco\", \"quoref\", \"cosmosqa\", \"drop\"]); files"
   ],
   "outputs": [
    {
     "output_type": "execute_result",
     "data": {
      "text/plain": [
       "['../tasks/task001_quoref_question_generation.json',\n",
       " '../tasks/task002_quoref_answer_generation.json',\n",
       " '../tasks/task003_mctaco_question_generation_event_duration.json',\n",
       " '../tasks/task004_mctaco_answer_generation_event_duration.json',\n",
       " '../tasks/task005_mctaco_wrong_answer_generation_event_duration.json',\n",
       " '../tasks/task006_mctaco_question_generation_transient_stationary.json',\n",
       " '../tasks/task007_mctaco_answer_generation_transient_stationary.json',\n",
       " '../tasks/task008_mctaco_wrong_answer_generation_transient_stationary.json',\n",
       " '../tasks/task009_mctaco_question_generation_event_ordering.json',\n",
       " '../tasks/task010_mctaco_answer_generation_event_ordering.json',\n",
       " '../tasks/task011_mctaco_wrong_answer_generation_event_ordering.json',\n",
       " '../tasks/task012_mctaco_question_generation_absolute_timepoint.json',\n",
       " '../tasks/task013_mctaco_answer_generation_absolute_timepoint.json',\n",
       " '../tasks/task014_mctaco_wrong_answer_generation_absolute_timepoint.json',\n",
       " '../tasks/task015_mctaco_question_generation_frequency.json',\n",
       " '../tasks/task016_mctaco_answer_generation_frequency.json',\n",
       " '../tasks/task017_mctaco_wrong_answer_generation_frequency.json',\n",
       " '../tasks/task018_mctaco_temporal_reasoning_presence.json',\n",
       " '../tasks/task019_mctaco_temporal_reasoning_category.json',\n",
       " '../tasks/task020_mctaco_span_based_question.json',\n",
       " '../tasks/task021_mctaco_grammatical_logical.json',\n",
       " '../tasks/task022_cosmosqa_passage_inappropriate_binary.json',\n",
       " '../tasks/task023_cosmosqa_question_generation.json',\n",
       " '../tasks/task024_cosmosqa_answer_generation.json',\n",
       " '../tasks/task025_cosmosqa_incorrect_answer_generation.json',\n",
       " '../tasks/task026_drop_question_generation.json',\n",
       " '../tasks/task027_drop_answer_type_generation.json',\n",
       " '../tasks/task028_drop_answer_generation.json']"
      ]
     },
     "metadata": {},
     "execution_count": 2
    }
   ],
   "metadata": {}
  },
  {
   "cell_type": "code",
   "execution_count": 3,
   "source": [
    "def add_categories(category, data):\n",
    "    data['Categories'].append(category)\n",
    "    return data"
   ],
   "outputs": [],
   "metadata": {}
  },
  {
   "cell_type": "code",
   "execution_count": 4,
   "source": [
    "def rename_categories(old_to_new_map, data):\n",
    "    \"\"\"\n",
    "    old_to_new_map should look like \n",
    "    {\n",
    "        \"old category name 1\": \"new category name 1\",\n",
    "        \"old category name 2\": \"new category name 2\"\n",
    "    }\n",
    "    \"\"\"\n",
    "    for i, category in enumerate(data[\"Categories\"]):\n",
    "        if category in old_to_new_map:\n",
    "            data[\"Categories\"][i] = old_to_new_map[category]\n",
    "    return data"
   ],
   "outputs": [],
   "metadata": {}
  },
  {
   "cell_type": "code",
   "execution_count": 5,
   "source": [
    "# test rename_category\n",
    "def test_rename_categories():\n",
    "    data = {\"Categories\": [\"old1\", \"old2\", \"old3\"]}\n",
    "    new_data = rename_categories({\"old1\": \"new1\", \"old2\": \"new2\"}, data)\n",
    "    assert new_data == {'Categories': ['new1', 'new2', 'old3']}\n",
    "\n",
    "test_rename_categories()"
   ],
   "outputs": [],
   "metadata": {}
  },
  {
   "cell_type": "code",
   "execution_count": 6,
   "source": [
    "files"
   ],
   "outputs": [
    {
     "output_type": "execute_result",
     "data": {
      "text/plain": [
       "['../tasks/task001_quoref_question_generation.json',\n",
       " '../tasks/task002_quoref_answer_generation.json',\n",
       " '../tasks/task003_mctaco_question_generation_event_duration.json',\n",
       " '../tasks/task004_mctaco_answer_generation_event_duration.json',\n",
       " '../tasks/task005_mctaco_wrong_answer_generation_event_duration.json',\n",
       " '../tasks/task006_mctaco_question_generation_transient_stationary.json',\n",
       " '../tasks/task007_mctaco_answer_generation_transient_stationary.json',\n",
       " '../tasks/task008_mctaco_wrong_answer_generation_transient_stationary.json',\n",
       " '../tasks/task009_mctaco_question_generation_event_ordering.json',\n",
       " '../tasks/task010_mctaco_answer_generation_event_ordering.json',\n",
       " '../tasks/task011_mctaco_wrong_answer_generation_event_ordering.json',\n",
       " '../tasks/task012_mctaco_question_generation_absolute_timepoint.json',\n",
       " '../tasks/task013_mctaco_answer_generation_absolute_timepoint.json',\n",
       " '../tasks/task014_mctaco_wrong_answer_generation_absolute_timepoint.json',\n",
       " '../tasks/task015_mctaco_question_generation_frequency.json',\n",
       " '../tasks/task016_mctaco_answer_generation_frequency.json',\n",
       " '../tasks/task017_mctaco_wrong_answer_generation_frequency.json',\n",
       " '../tasks/task018_mctaco_temporal_reasoning_presence.json',\n",
       " '../tasks/task019_mctaco_temporal_reasoning_category.json',\n",
       " '../tasks/task020_mctaco_span_based_question.json',\n",
       " '../tasks/task021_mctaco_grammatical_logical.json',\n",
       " '../tasks/task022_cosmosqa_passage_inappropriate_binary.json',\n",
       " '../tasks/task023_cosmosqa_question_generation.json',\n",
       " '../tasks/task024_cosmosqa_answer_generation.json',\n",
       " '../tasks/task025_cosmosqa_incorrect_answer_generation.json',\n",
       " '../tasks/task026_drop_question_generation.json',\n",
       " '../tasks/task027_drop_answer_type_generation.json',\n",
       " '../tasks/task028_drop_answer_generation.json']"
      ]
     },
     "metadata": {},
     "execution_count": 6
    }
   ],
   "metadata": {}
  },
  {
   "cell_type": "code",
   "execution_count": 7,
   "source": [
    "old_to_new_map = {\n",
    "    \"Answer Generation\": \"Question Answering\",\n",
    "\"Answer Generation -> Commonsense Question Answering\": \n",
    "    \"Question Answering -> Commonsense Question Answering\",\n",
    "\"Answer Generation -> Contextual Question Answering\": \n",
    "    \"Question Answering -> Contextual Question Answering\",\n",
    "\"Answer Generation -> Extractive\": \n",
    "    \"Question Answering -> Contextual Question Answering -> Extractive\",\n",
    "\"Answer Generation -> Abstractive\": \n",
    "    \"Question Answering -> Contextual Question Answering -> Abstractive\", \n",
    "\"Answer Generation -> Fill in the Blank\": \n",
    "    \"Question Answering -> Fill in the Blank\",\n",
    "\"Answer Generation -> Multiple Choice Question Answering\": \n",
    "    \"Question Answering -> Multiple Choice Question Answering\",\n",
    "\"Answer Generation -> Open Question Answering\": \n",
    "    \"Question Answering -> Open Question Answering\",\n",
    "\"Incorrect Answer Generation\":\n",
    "    \"Question Answering -> Incorrect Answer Generation\",\n",
    "\"Contextual Question Generation\":\n",
    "    \"Question Generation -> Contextual Question Generation\"\n",
    "}\n",
    "\n",
    "date_manipulate_func = partial(rename_categories, old_to_new_map)\n",
    "# date_manipulate_func = partial(add_categories, \"new category 123!!\")"
   ],
   "outputs": [],
   "metadata": {}
  },
  {
   "cell_type": "code",
   "execution_count": 8,
   "source": [
    "def modify_files(file, date_manipulate_func):\n",
    "    \"\"\"\n",
    "    manipulate_data is a function \n",
    "    \"\"\"\n",
    "    with open(file, 'r') as f:\n",
    "        data = json.load(f)\n",
    "        date_manipulate_func(data)\n",
    "        \n",
    "    os.remove(file)\n",
    "    with open(file, 'w') as f:\n",
    "        modified_json = json.dumps(data, indent=4, ensure_ascii=False)\n",
    "        print(modified_json, file=f)"
   ],
   "outputs": [],
   "metadata": {}
  },
  {
   "cell_type": "code",
   "execution_count": 9,
   "source": [
    "# modify_files(files[0], date_manipulate_func)"
   ],
   "outputs": [],
   "metadata": {}
  },
  {
   "cell_type": "code",
   "execution_count": 10,
   "source": [
    "# add the domain\n",
    "for file in files: \n",
    "    modify_files(file, date_manipulate_func)"
   ],
   "outputs": [],
   "metadata": {}
  },
  {
   "cell_type": "code",
   "execution_count": null,
   "source": [],
   "outputs": [],
   "metadata": {}
  }
 ],
 "metadata": {
  "orig_nbformat": 4,
  "language_info": {
   "name": "python",
   "version": "3.9.5",
   "mimetype": "text/x-python",
   "codemirror_mode": {
    "name": "ipython",
    "version": 3
   },
   "pygments_lexer": "ipython3",
   "nbconvert_exporter": "python",
   "file_extension": ".py"
  },
  "kernelspec": {
   "name": "python3",
   "display_name": "Python 3.9.5 64-bit ('commonlit': conda)"
  },
  "interpreter": {
   "hash": "81668ee86a9ded77c95d3063bdc2e99dfb7753f240420397bfcb90599fd7ffdc"
  }
 },
 "nbformat": 4,
 "nbformat_minor": 2
}