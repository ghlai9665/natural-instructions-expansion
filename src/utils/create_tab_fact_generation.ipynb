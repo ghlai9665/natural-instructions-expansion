{
 "cells": [
  {
   "cell_type": "code",
   "execution_count": 1,
   "source": [
    "%load_ext autoreload  \n",
    "%autoreload 2 \n",
    "%matplotlib inline"
   ],
   "outputs": [],
   "metadata": {}
  },
  {
   "cell_type": "code",
   "execution_count": 2,
   "source": [
    "import torch \n",
    "from tqdm import tqdm\n",
    "import json\n",
    "from datasets import load_dataset\n",
    "from sentence_transformers import CrossEncoder"
   ],
   "outputs": [],
   "metadata": {}
  },
  {
   "cell_type": "code",
   "execution_count": 3,
   "source": [
    "# get instances\n",
    "dataset = load_dataset(\"tab_fact\", 'tab_fact')"
   ],
   "outputs": [
    {
     "output_type": "stream",
     "name": "stdout",
     "text": [
      "Downloading and preparing dataset tab_fact/tab_fact (download: 187.41 MiB, generated: 121.30 MiB, post-processed: Unknown size, total: 308.71 MiB) to /Users/garylai/.cache/huggingface/datasets/tab_fact/tab_fact/1.0.0/bcae1c44400dec0f74f22bba297d6fe979e9751fb57d4e421f9d1676086c2985...\n"
     ]
    },
    {
     "output_type": "stream",
     "name": "stderr",
     "text": [
      "Downloading: 197MB [11:26, 286kB/s]\n"
     ]
    },
    {
     "output_type": "stream",
     "name": "stdout",
     "text": [
      "Dataset tab_fact downloaded and prepared to /Users/garylai/.cache/huggingface/datasets/tab_fact/tab_fact/1.0.0/bcae1c44400dec0f74f22bba297d6fe979e9751fb57d4e421f9d1676086c2985. Subsequent calls will reuse this data.\n"
     ]
    },
    {
     "output_type": "stream",
     "name": "stderr",
     "text": [
      "100%|██████████| 3/3 [00:00<00:00, 222.25it/s]\n"
     ]
    }
   ],
   "metadata": {}
  },
  {
   "cell_type": "code",
   "execution_count": 9,
   "source": [
    "dataset = dataset['train']"
   ],
   "outputs": [],
   "metadata": {}
  },
  {
   "cell_type": "code",
   "execution_count": 19,
   "source": [
    "len(dataset)"
   ],
   "outputs": [
    {
     "output_type": "execute_result",
     "data": {
      "text/plain": [
       "92283"
      ]
     },
     "metadata": {},
     "execution_count": 19
    }
   ],
   "metadata": {}
  },
  {
   "cell_type": "code",
   "execution_count": 37,
   "source": [
    "dataset[:2]"
   ],
   "outputs": [
    {
     "output_type": "execute_result",
     "data": {
      "text/plain": [
       "{'id': [0, 0],\n",
       " 'table_id': ['2-15401676-3.html.csv', '2-15401676-3.html.csv'],\n",
       " 'table_text': ['date#result#score#brazil scorers#competition\\nmay 11 , 1919#w#6 - 0#friedenreich (3) , neco (2) , haroldo#south american championship\\nmay 18 , 1919#w#3 - 1#heitor , amílcar , millon#south american championship\\nmay 26 , 1919#d#2 - 2#neco (2)#south american championship\\nmay 29 , 1919#w#1 - 0#friedenreich#south american championship\\njune 1 , 1919#d#3 - 3#haroldo , arlindo (2)#taça roberto cherry\\n',\n",
       "  'date#result#score#brazil scorers#competition\\nmay 11 , 1919#w#6 - 0#friedenreich (3) , neco (2) , haroldo#south american championship\\nmay 18 , 1919#w#3 - 1#heitor , amílcar , millon#south american championship\\nmay 26 , 1919#d#2 - 2#neco (2)#south american championship\\nmay 29 , 1919#w#1 - 0#friedenreich#south american championship\\njune 1 , 1919#d#3 - 3#haroldo , arlindo (2)#taça roberto cherry\\n'],\n",
       " 'table_caption': ['1919 in brazilian football', '1919 in brazilian football'],\n",
       " 'statement': ['haroldo be mention as a brazil scorer for 2 different game',\n",
       "  '4 of the 5 game be for the south american championship'],\n",
       " 'label': [1, 1]}"
      ]
     },
     "metadata": {},
     "execution_count": 37
    }
   ],
   "metadata": {}
  },
  {
   "cell_type": "code",
   "execution_count": 31,
   "source": [
    "dataset[247]"
   ],
   "outputs": [
    {
     "output_type": "execute_result",
     "data": {
      "text/plain": [
       "{'id': 38,\n",
       " 'table_id': '2-1641054-2.html.csv',\n",
       " 'table_text': \"university#location#established#endowment as of 2008#campus area (acres)#kiplinger 's top 100 values#enrollment as of 2008\\nflorida a&m university#tallahassee , florida#1887#119 million#419#n / a#11567\\nflorida atlantic university#boca raton , florida#1961#182 million#850#n / a#26525\\nflorida gulf coast university#fort myers , florida#1991#39 million#760#n / a#9387\\nflorida international university#miami , florida#1965#97 million#573#n / a#38614\\nflorida state university#tallahassee , florida#1851#570 million#1200#17th overall in the united states#41002\\nnew college of florida#sarasota , florida#1960#33 million#144#8th overall in the united states#769\\nuniversity of central florida#orlando , florida#1963#114 million#1415#42nd overall in the united states#48699\\nuniversity of florida#gainesville , florida#1853#1.3 billion#2000#2nd overall in the united states#52084\\nuniversity of north florida#jacksonville , florida#1969#95 million#1300#n / a#16570\\nuniversity of south florida#tampa , florida#1956#360 million#1913#75th overall in the united states#45524\\nuniversity of west florida#pensacola , florida#1963#61 million#1600#n / a#10394\\n\",\n",
       " 'table_caption': 'florida board of governors',\n",
       " 'statement': 'new college of florida , have the smallest endowment of any university with only 33 million',\n",
       " 'label': 1}"
      ]
     },
     "metadata": {},
     "execution_count": 31
    }
   ],
   "metadata": {}
  },
  {
   "cell_type": "code",
   "execution_count": 38,
   "source": [
    "def get_instance(index, dataset):  \n",
    "    return {\n",
    "        \"input\": dataset['table_text'][index],\n",
    "        \"output\": dataset['statement'][index]\n",
    "    }"
   ],
   "outputs": [],
   "metadata": {}
  },
  {
   "cell_type": "code",
   "execution_count": 50,
   "source": [
    "Instances = []\n",
    "for i in tqdm(range(21, 1000)):\n",
    "    if i != 247 and dataset['label'][i] == 1:\n",
    "        instance = get_instance(i, dataset)\n",
    "        Instances.append(instance)"
   ],
   "outputs": [
    {
     "output_type": "stream",
     "name": "stderr",
     "text": [
      "100%|██████████| 979/979 [04:24<00:00,  3.71it/s]\n"
     ]
    }
   ],
   "metadata": {}
  },
  {
   "cell_type": "code",
   "execution_count": 46,
   "source": [
    "# Instances"
   ],
   "outputs": [],
   "metadata": {}
  },
  {
   "cell_type": "code",
   "execution_count": 15,
   "source": [
    "task_json = {\n",
    "    \"Contributors\": [\n",
    "        \"Gary Haizhi Lai\"\n",
    "    ],\n",
    "    \"Source\": [\n",
    "        \"tab_fact (https://openreview.net/forum?id=rkeJRhNYDH)\"\n",
    "    ],\n",
    "    \"Categories\": [\n",
    "        \"Text Generation\"\n",
    "    ],\n",
    "    \"Definition\": \"In this task, we ask you look at a table and generate a fact entailed by information in the table. All words should be lowercase. Write all the nouns in singular form (e.g. \\\"games\\\" becomes \\\"game\\\"). Write all the verbs in infinitive form (e.g. \\\"is\\\" and \\\"are\\\" become \\\"be\\\"; \\\"used\\\" becomes \\\"use\\\")\",\n",
    "    \"Positive Examples\": [\n",
    "        {\n",
    "            \"input\": dataset[0]['table_text'],\n",
    "            \"output\": \"4 of the 5 game be play in may 1919\",\n",
    "            \"explanation\": \"The output fact is supported by the input table. The verbs, nouns and capitalization are in the correct format.\"\n",
    "        },\n",
    "        {\n",
    "            \"input\": dataset[247]['table_text'],\n",
    "            \"output\": dataset[247]['statement'],\n",
    "            \"explanation\": \"The output fact is correct according to the input table. The verbs, nouns and capitalization are in the correct format.\"\n",
    "        }\n",
    "    ],\n",
    "    \"Negative Examples\": [\n",
    "        {\n",
    "            \"input\": dataset[0]['table_text'],\n",
    "            \"output\": \"5 of the 5 game be play in may 1919\",\n",
    "            \"explanation\": \"The fact conflicts with the input table. It should be 4 of the 5 game.\"\n",
    "        },\n",
    "        {\n",
    "            \"input\": dataset[247]['table_text'],\n",
    "            \"output\": \"New College of Florida has the smallest endowment of any university with only 33 millions\",\n",
    "            \"explanation\": \"While the fact is supported by the input table, the format is wrong. There are plural nouns, verbs not in infinitive form, and capitalization.\"\n",
    "        }\n",
    "    ],\n",
    "    \"Instances\": Instances\n",
    "}\n",
    "\n",
    "# export\n",
    "with open('task1200_tab_fact_text_generation.json', 'w') as fp:\n",
    "    final_json = json.dumps(task_json, indent=4, ensure_ascii=False)\n",
    "    print(final_json, file=fp)"
   ],
   "outputs": [],
   "metadata": {}
  },
  {
   "cell_type": "code",
   "execution_count": null,
   "source": [],
   "outputs": [],
   "metadata": {}
  }
 ],
 "metadata": {
  "interpreter": {
   "hash": "81668ee86a9ded77c95d3063bdc2e99dfb7753f240420397bfcb90599fd7ffdc"
  },
  "kernelspec": {
   "name": "python3",
   "display_name": "Python 3.9.5 64-bit ('commonlit': conda)"
  },
  "language_info": {
   "codemirror_mode": {
    "name": "ipython",
    "version": 3
   },
   "file_extension": ".py",
   "mimetype": "text/x-python",
   "name": "python",
   "nbconvert_exporter": "python",
   "pygments_lexer": "ipython3",
   "version": "3.9.5"
  },
  "orig_nbformat": 4
 },
 "nbformat": 4,
 "nbformat_minor": 2
}