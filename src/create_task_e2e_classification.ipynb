{
 "cells": [
  {
   "cell_type": "code",
   "execution_count": 1,
   "metadata": {},
   "outputs": [],
   "source": [
    "%load_ext autoreload  \n",
    "%autoreload 2 \n",
    "%matplotlib inline"
   ]
  },
  {
   "cell_type": "code",
   "execution_count": 2,
   "metadata": {},
   "outputs": [],
   "source": [
    "import torch \n",
    "from tqdm import tqdm\n",
    "import json\n",
    "from datasets import load_dataset\n",
    "from sentence_transformers import CrossEncoder"
   ]
  },
  {
   "cell_type": "code",
   "execution_count": 3,
   "metadata": {},
   "outputs": [
    {
     "name": "stderr",
     "output_type": "stream",
     "text": [
      "Using custom data configuration default\n",
      "Reusing dataset e2e_nlg (/Users/garylai/.cache/huggingface/datasets/e2e_nlg/default/0.0.0/bfeceb720929c2705bd227d1cfe5eaaab102a0bdac10dad618dac1e00c737430)\n",
      "100%|██████████| 3/3 [00:00<00:00, 111.11it/s]\n"
     ]
    }
   ],
   "source": [
    "# get instances\n",
    "dataset = load_dataset('e2e_nlg')\n"
   ]
  },
  {
   "cell_type": "code",
   "execution_count": 4,
   "metadata": {},
   "outputs": [
    {
     "data": {
      "text/plain": [
       "42061"
      ]
     },
     "execution_count": 4,
     "metadata": {},
     "output_type": "execute_result"
    }
   ],
   "source": [
    "dataset = dataset['train']; len(dataset)"
   ]
  },
  {
   "cell_type": "code",
   "execution_count": 39,
   "metadata": {},
   "outputs": [
    {
     "data": {
      "text/plain": [
       "{'meaning_representation': 'name[Aromi], eatType[restaurant], food[English], area[city centre]',\n",
       " 'human_reference': 'Aromi is an English restaurant in the city centre.'}"
      ]
     },
     "execution_count": 39,
     "metadata": {},
     "output_type": "execute_result"
    }
   ],
   "source": [
    "dataset[-1]"
   ]
  },
  {
   "cell_type": "code",
   "execution_count": 36,
   "metadata": {},
   "outputs": [],
   "source": [
    "def parse( s, first, last ):\n",
    "    try:\n",
    "        start = s.index( first ) + len( first )\n",
    "        end = s.index( last, start )\n",
    "        key, value = s[:start-1],s[start:end]\n",
    "        return key, value\n",
    "    except ValueError:\n",
    "        return \"nan\", \"nan\""
   ]
  },
  {
   "cell_type": "code",
   "execution_count": 40,
   "metadata": {},
   "outputs": [
    {
     "data": {
      "text/plain": [
       "{'meaning_representation': 'name[The Vaults], eatType[pub], priceRange[more than £30], customer rating[5 out of 5], near[Café Adriatic]',\n",
       " 'human_reference': 'The Vaults pub near Café Adriatic has a 5 star rating.  Prices start at £30.'}"
      ]
     },
     "execution_count": 40,
     "metadata": {},
     "output_type": "execute_result"
    }
   ],
   "source": [
    "dataset[0]"
   ]
  },
  {
   "cell_type": "code",
   "execution_count": 58,
   "metadata": {},
   "outputs": [],
   "source": [
    "def process_sentence(sample):\n",
    "    sentence = sample['human_reference']\n",
    "    # parse data\n",
    "    pairs = sample['meaning_representation'].split(\", \")\n",
    "    data = {}\n",
    "    for pair in pairs: \n",
    "        key, value = parse(pair, \"[\", \"]\")\n",
    "        data[key] = value\n",
    "\n",
    "    # check entities\n",
    "    entities = [\"name\", \"near\", \"area\"]\n",
    "\n",
    "    processed_sentence = sentence\n",
    "    for entity in entities: \n",
    "        if entity in data and data[entity] in processed_sentence:\n",
    "            processed_sentence = processed_sentence.replace(data[entity], \"<\" + data[entity] + \">\")\n",
    "    return processed_sentence\n"
   ]
  },
  {
   "cell_type": "code",
   "execution_count": 60,
   "metadata": {},
   "outputs": [
    {
     "name": "stdout",
     "output_type": "stream",
     "text": [
      "<The Vaults> pub near <Café Adriatic> has a 5 star rating.  Prices start at £30.\n",
      "Close to <Café Brazil>, <The Cambridge Blue> pub serves delicious Tuscan Beef for the cheap price of £10.50. Delicious Pub food.\n",
      "<The Eagle> is a low rated coffee shop near <Burger King> and the <riverside> that is family friendly and is less than £20 for Japanese food.\n",
      "Located near <The Sorrento> is a French Theme eatery and coffee shop called <The Mill>, with a price range at £20-£25 it is in the <riverside> area.\n",
      "For luxurious French food, the <Loch Fyne> is located by the river next to <The Rice Boat>.\n",
      "<Bibimbap House> is a moderately priced restaurant who's main cuisine is English food. You will find this local gem near <Clare Hall> in the Riverside area.\n",
      "<The Rice Boat> is an adult French restaurant with high customer rating  located in the Riverside area.\n",
      "<The Wrestlers> coffee shop serves Japanese food.  It is situated near <Raja Indian Cuisine> at the <riverside>.  Prices are less than £20.  It is not family-friendly.\n",
      "In the <city centre> lies <Aromi>, a French coffee shop for adults with a low customer rating.\n",
      "<The Phoenix> is a fast food place located in the <riverside> area. They have moderate pricing and a customer rating of 3 out of 5.\n"
     ]
    }
   ],
   "source": [
    "for i in range(10):\n",
    "    print(process_sentence(dataset[i]))"
   ]
  },
  {
   "cell_type": "code",
   "execution_count": 50,
   "metadata": {},
   "outputs": [
    {
     "data": {
      "text/plain": [
       "'<The Vaults> pub near <Café Adriatic> has a 5 star rating.  Prices start at £30.'"
      ]
     },
     "execution_count": 50,
     "metadata": {},
     "output_type": "execute_result"
    }
   ],
   "source": [
    "processed_sentence"
   ]
  },
  {
   "cell_type": "code",
   "execution_count": 42,
   "metadata": {},
   "outputs": [
    {
     "data": {
      "text/plain": [
       "{'name': 'The Vaults',\n",
       " 'eatType': 'pub',\n",
       " 'priceRange': 'more than £30',\n",
       " 'customer rating': '5 out of 5',\n",
       " 'near': 'Café Adriatic'}"
      ]
     },
     "execution_count": 42,
     "metadata": {},
     "output_type": "execute_result"
    }
   ],
   "source": [
    "data"
   ]
  },
  {
   "cell_type": "code",
   "execution_count": 14,
   "metadata": {},
   "outputs": [],
   "source": [
    "task_json = {\n",
    "    \"Contributors\": [\n",
    "        \"Gary Haizhi Lai\"\n",
    "    ],\n",
    "    \"Source\": [\n",
    "        \"e2e\"\n",
    "    ],\n",
    "    \"Categories\": [\n",
    "        \"Text Generation\"\n",
    "    ],\n",
    "    \"Definition\": \"In this task, we ask you to parse restaurant descriptions into a structured data table of key-value pairs. Here are the attributes (keys) and their examples values: \\n name: The Eagle,... \\n eatType: restaurant, coffee shop,... \\n familyFriendly: Yes / No \\n priceRange: cheap, expensive,... \\n food: French, Italian,... \\n near: market square,... \\n area: riverside, city center, ... \\n customerRating: 1 of 5 (low), 4 of 5 (high), ...  \\n The output table may contain all or only some of the attributes but must not contain unlisted attributes. For the output to be considered correct, it also must parse all of the attributes existant in the input sentence; in other words, incomplete parsing would be considered incorrect.\",\n",
    "    \"Positive Examples\": [\n",
    "        {\n",
    "            \"input\": \"<Aromi> is an English restaurant in the <city centre>.\",\n",
    "            \"output\": \"restaurant name, location\",\n",
    "            \"explanation\": \"The output correctly parses all the parseable attributes in the input, no more, no less.\"\n",
    "        },\n",
    "        {\n",
    "            \"input\": \"The Rice Boat is a cheap Indian restaurant in the center of the city near Express by Holiday Inn. It is family friendly and has the highest customer rating.\",\n",
    "            \"output\": \"name[The Rice Boat], food[Indian], priceRange[cheap], customer rating[5 out of 5], area[city centre], familyFriendly[yes], near[Express by Holiday Inn]\",\n",
    "            \"explanation\": \"The output data table contains all the correct attributes and values from the input. All the attributes are as listed in the instruction; there are no made-up attributes.\"\n",
    "        },\n",
    "    ],\n",
    "    \"Negative Examples\": [\n",
    "        {\n",
    "            \"input\": \"Blue Spice is a coffee shop located by the riverside, near Avalon. Its prices are over £30. Its customer ratings are 5 out of 5.\",\n",
    "            \"output\": \"name[Blue Spice], eatType[pub], priceRange[more than £30], customer rating[5 out of 5], area[Boston], familyFriendly[yes], near[Avalon]\",\n",
    "            \"explanation\": \"The values for some of the attributes are incorrect e.g. \\\"pub\\\" and \\\"Boston\\\".\"\n",
    "        },\n",
    "        {\n",
    "            \"input\": \"The Waterman is an expensive family-friendly Japanese restaurant with average customer rating in riverside\",\n",
    "            \"output\": \"name[The Waterman], customer rating[average], area[riverside], familyFriendly[yes]\",\n",
    "            \"explanation\": \"While the output correctly parses various attributes, it leaves out some parseable attributes such as \\\"food[Japanese]\\\" and \\\"priceRange[expensive]\\\"\", \n",
    "        },\n",
    "        {\n",
    " \"input\": \"The Rice Boat is a cheap Indian restaurant in the center of the city near Express by Holiday Inn. It is family friendly and has the highest customer rating.\",\n",
    "            \"output\": \"name[The Rice Boat], type[cheap Indian restaurant], food[Indian], priceRange[cheap], customer rating[5 out of 5], area[city centre], familyFriendly[yes], near[Express by Holiday Inn]\",\n",
    "            \"explanation\": \"While most of the attributes were parsed correctly, \\\"type[cheap Indian restaurant]\\\" is a made-up attribute and therefore the output is considered incorrect.\"\n",
    " }\n",
    "    ],\n",
    "    \"Instances\": Instances\n",
    "}\n",
    "\n",
    "# export\n",
    "with open('task950_e2e_text_generation.json', 'w') as fp:\n",
    "    final_json = json.dumps(task_json, indent=4, ensure_ascii=False)\n",
    "    print(final_json, file=fp)"
   ]
  },
  {
   "cell_type": "code",
   "execution_count": null,
   "metadata": {},
   "outputs": [],
   "source": []
  }
 ],
 "metadata": {
  "interpreter": {
   "hash": "81668ee86a9ded77c95d3063bdc2e99dfb7753f240420397bfcb90599fd7ffdc"
  },
  "kernelspec": {
   "display_name": "Python 3.9.5 64-bit ('commonlit': conda)",
   "name": "python3"
  },
  "language_info": {
   "codemirror_mode": {
    "name": "ipython",
    "version": 3
   },
   "file_extension": ".py",
   "mimetype": "text/x-python",
   "name": "python",
   "nbconvert_exporter": "python",
   "pygments_lexer": "ipython3",
   "version": "3.9.5"
  },
  "orig_nbformat": 4
 },
 "nbformat": 4,
 "nbformat_minor": 2
}